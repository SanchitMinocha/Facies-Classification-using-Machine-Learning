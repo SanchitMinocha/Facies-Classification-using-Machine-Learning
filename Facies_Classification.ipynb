{
 "cells": [
  {
   "cell_type": "markdown",
   "id": "4309fa18",
   "metadata": {},
   "source": [
    "# <center>Facies Classification using Machine Learning</center>"
   ]
  },
  {
   "cell_type": "markdown",
   "id": "afec4859",
   "metadata": {},
   "source": [
    "![Facies Classification Image](https://s.wsj.net/public/resources/images/B3-AH098_Oil_P_20180502165608.jpg)"
   ]
  },
  {
   "cell_type": "markdown",
   "id": "fd74b887",
   "metadata": {},
   "source": [
    "How do you classify facies in an oil well?\n",
    "\n",
    "You look at the various acquired and derived well logs like Gamma ray, Porosity, Resistivity etc.\n",
    "\n",
    "In this session, your task is to create a machine learning model which can classify the well facies based on other well log data.\n",
    "\n",
    "Here, I will discuss the step by step approach to create a Machine Learning classification model in such scenarios. \n",
    "\n",
    "You can further use this notebook as a template to solve any supervised ML problem.\n",
    "\n",
    "The steps involved to solve any ML Problem is listed below:\n",
    "\n",
    "- <a href='#1'>Importing important libraries</a>\n",
    "- <a href='#2'>Reading the data into python</a>\n",
    "- <a href='#3'>Defining the problem statement</a>\n",
    "- <a href='#4'>Looking at the frequency distribution of Target variable</a>\n",
    "- <a href='#5'>Basic data exploration</a>\n",
    "- <a href='#6'>Visual Exploratory Data Analysis for data distribution (Histogram and Barcharts)</a>\n",
    "- <a href='#7'>Outlier treatment</a>\n",
    "- <a href='#8'>Missing Values treatment</a>\n",
    "- <a href='#9'>Feature Selection using Visual correlation analysis</a>\n",
    "- <a href='#10'>Feature Selection using Statistical correlation analysis</a>\n",
    "- <a href='#11'>Pre-processing of Data for ML</a>\n",
    "- <a href='#12'>Splitting Data for Train-Test</a>\n",
    "- <a href='#13'>Trying multiple ML algorithms</a>\n",
    "- <a href='#14'>Selecting the best Model</a>\n",
    "- <a href='#15'>Deploying the best model in production</a>"
   ]
  },
  {
   "cell_type": "markdown",
   "id": "c715fcdf",
   "metadata": {},
   "source": [
    "## <a id='1'>Importing Libraries</a>"
   ]
  },
  {
   "cell_type": "code",
   "execution_count": 1,
   "id": "61c741cb",
   "metadata": {},
   "outputs": [],
   "source": [
    "import pandas as pd  # use to manipulate data in a dataframe and reading csv,excel files\n",
    "import numpy as np  # use to do matrix and array operations in python\n",
    "import os\n",
    "import matplotlib.pyplot as plt # for visualising data\n",
    "import seaborn as sns\n",
    "# to create plots which are embedded in the notebook\n",
    "%matplotlib inline   \n",
    "from scipy.stats import f_oneway  # function used for ANOVA test \n",
    "import sklearn #for applying machine algorithms\n",
    "import flask #for hosting python API as web-service\n",
    "import pickle #for storing python objects in files"
   ]
  },
  {
   "cell_type": "markdown",
   "id": "4c0ff981",
   "metadata": {},
   "source": [
    "If there is problem in importing any library run <b>'!pip install library_name'</b> in another cell replacing library_name with the name of the library."
   ]
  },
  {
   "cell_type": "markdown",
   "id": "f4fc4708",
   "metadata": {},
   "source": [
    "## <a id='2'>Reading the data into python</a>"
   ]
  },
  {
   "cell_type": "markdown",
   "id": "13d8ec0e",
   "metadata": {},
   "source": [
    "This is one of the most crucial steps in machine learning! You must try to understand the data and it's domain first, before applying any machine learning algorithm.\n",
    "\n",
    "In 1986, Alberta Geological Survey(AGS) began a project to map the McMurray Formation and the overlying Wabiskaw Member of the Clearwater Formation in the Athabasca Oil Sands Area. The data that we are using for this case study is one one of the most significant products of the project. The dataset has been taken from this <a href= 'https://ags.aer.ca/publication/spe-006'>website</a>.\n",
    "\n",
    "The data has one file \".csv\". This file contains well log data from 2175 wells.\n",
    "\n",
    "You can download the data required for this case study <a href='https://slb001-my.sharepoint.com/:f:/g/personal/sminocha_slb_com/EioWwV6vUuBLkPibEe6i8akByqZS6vk52OXvXWhy2x-Bow?e=2YRI3M'> here </a>"
   ]
  },
  {
   "cell_type": "markdown",
   "id": "bc909449",
   "metadata": {},
   "source": [
    "![Image of Athabasca](https://static.aer.ca/prd/images/content/Media-Centre/Figure-R2.4-CanadaAoAs-2021-KB.jpg)"
   ]
  },
  {
   "cell_type": "markdown",
   "id": "0ce9587c",
   "metadata": {},
   "source": [
    "#### Data Description"
   ]
  },
  {
   "cell_type": "markdown",
   "id": "8398a233",
   "metadata": {},
   "source": [
    "The domain meaning of each column in the data is as mentioned below:\n",
    "\n",
    "- SitID    : Unique well identifier\n",
    "- Depth    : Depth at which the well measurements are taken\n",
    "- Lith_id  : Code to identify the lithology\n",
    "            0\tUndefined\n",
    "            1\tSand\n",
    "            2\tShalySand\n",
    "            3\tSandyShale\n",
    "            4\tShale\n",
    "            5\tCoal\n",
    "            6\tCementedSand\n",
    "- W_Tar   : Mass percent bitumen\n",
    "- VSH     : Volume of Shale \n",
    "- PHI     : Porosity of formation\n",
    "- RW      : Water resistivity at formation temperature"
   ]
  },
  {
   "cell_type": "code",
   "execution_count": 2,
   "id": "19650778",
   "metadata": {},
   "outputs": [],
   "source": [
    "#### Supressing the warning messages\n",
    "import warnings\n",
    "warnings.filterwarnings('ignore')"
   ]
  },
  {
   "cell_type": "code",
   "execution_count": 3,
   "id": "a2e35601",
   "metadata": {},
   "outputs": [
    {
     "name": "stdout",
     "output_type": "stream",
     "text": [
      "Shape of the data: (579846, 8)\n"
     ]
    },
    {
     "data": {
      "text/html": [
       "<div>\n",
       "<style scoped>\n",
       "    .dataframe tbody tr th:only-of-type {\n",
       "        vertical-align: middle;\n",
       "    }\n",
       "\n",
       "    .dataframe tbody tr th {\n",
       "        vertical-align: top;\n",
       "    }\n",
       "\n",
       "    .dataframe thead th {\n",
       "        text-align: right;\n",
       "    }\n",
       "</style>\n",
       "<table border=\"1\" class=\"dataframe\">\n",
       "  <thead>\n",
       "    <tr style=\"text-align: right;\">\n",
       "      <th></th>\n",
       "      <th>SitID</th>\n",
       "      <th>DEPTH</th>\n",
       "      <th>Lith_id</th>\n",
       "      <th>W_Tar</th>\n",
       "      <th>SW</th>\n",
       "      <th>VSH</th>\n",
       "      <th>PHI</th>\n",
       "      <th>RW</th>\n",
       "    </tr>\n",
       "  </thead>\n",
       "  <tbody>\n",
       "    <tr>\n",
       "      <th>0</th>\n",
       "      <td>102496</td>\n",
       "      <td>437.00</td>\n",
       "      <td>5</td>\n",
       "      <td>0.0</td>\n",
       "      <td>1.0</td>\n",
       "      <td>1.000</td>\n",
       "      <td>0.000</td>\n",
       "      <td>1.054</td>\n",
       "    </tr>\n",
       "    <tr>\n",
       "      <th>1</th>\n",
       "      <td>102496</td>\n",
       "      <td>437.25</td>\n",
       "      <td>5</td>\n",
       "      <td>0.0</td>\n",
       "      <td>1.0</td>\n",
       "      <td>0.956</td>\n",
       "      <td>0.016</td>\n",
       "      <td>1.054</td>\n",
       "    </tr>\n",
       "    <tr>\n",
       "      <th>2</th>\n",
       "      <td>102496</td>\n",
       "      <td>437.50</td>\n",
       "      <td>5</td>\n",
       "      <td>0.0</td>\n",
       "      <td>1.0</td>\n",
       "      <td>0.776</td>\n",
       "      <td>0.083</td>\n",
       "      <td>1.054</td>\n",
       "    </tr>\n",
       "    <tr>\n",
       "      <th>3</th>\n",
       "      <td>102496</td>\n",
       "      <td>437.75</td>\n",
       "      <td>4</td>\n",
       "      <td>0.0</td>\n",
       "      <td>1.0</td>\n",
       "      <td>0.583</td>\n",
       "      <td>0.154</td>\n",
       "      <td>1.054</td>\n",
       "    </tr>\n",
       "    <tr>\n",
       "      <th>4</th>\n",
       "      <td>102496</td>\n",
       "      <td>438.00</td>\n",
       "      <td>2</td>\n",
       "      <td>0.0</td>\n",
       "      <td>1.0</td>\n",
       "      <td>0.383</td>\n",
       "      <td>0.228</td>\n",
       "      <td>1.054</td>\n",
       "    </tr>\n",
       "    <tr>\n",
       "      <th>5</th>\n",
       "      <td>102496</td>\n",
       "      <td>438.25</td>\n",
       "      <td>2</td>\n",
       "      <td>0.0</td>\n",
       "      <td>1.0</td>\n",
       "      <td>0.489</td>\n",
       "      <td>0.189</td>\n",
       "      <td>1.053</td>\n",
       "    </tr>\n",
       "    <tr>\n",
       "      <th>6</th>\n",
       "      <td>102496</td>\n",
       "      <td>438.50</td>\n",
       "      <td>4</td>\n",
       "      <td>0.0</td>\n",
       "      <td>1.0</td>\n",
       "      <td>0.552</td>\n",
       "      <td>0.166</td>\n",
       "      <td>1.053</td>\n",
       "    </tr>\n",
       "    <tr>\n",
       "      <th>7</th>\n",
       "      <td>102496</td>\n",
       "      <td>438.75</td>\n",
       "      <td>2</td>\n",
       "      <td>0.0</td>\n",
       "      <td>1.0</td>\n",
       "      <td>0.450</td>\n",
       "      <td>0.204</td>\n",
       "      <td>1.053</td>\n",
       "    </tr>\n",
       "    <tr>\n",
       "      <th>8</th>\n",
       "      <td>102496</td>\n",
       "      <td>439.00</td>\n",
       "      <td>2</td>\n",
       "      <td>0.0</td>\n",
       "      <td>1.0</td>\n",
       "      <td>0.395</td>\n",
       "      <td>0.224</td>\n",
       "      <td>1.053</td>\n",
       "    </tr>\n",
       "    <tr>\n",
       "      <th>9</th>\n",
       "      <td>102496</td>\n",
       "      <td>439.25</td>\n",
       "      <td>2</td>\n",
       "      <td>0.0</td>\n",
       "      <td>1.0</td>\n",
       "      <td>0.372</td>\n",
       "      <td>0.232</td>\n",
       "      <td>1.053</td>\n",
       "    </tr>\n",
       "  </tbody>\n",
       "</table>\n",
       "</div>"
      ],
      "text/plain": [
       "    SitID   DEPTH  Lith_id  W_Tar   SW    VSH    PHI     RW\n",
       "0  102496  437.00        5    0.0  1.0  1.000  0.000  1.054\n",
       "1  102496  437.25        5    0.0  1.0  0.956  0.016  1.054\n",
       "2  102496  437.50        5    0.0  1.0  0.776  0.083  1.054\n",
       "3  102496  437.75        4    0.0  1.0  0.583  0.154  1.054\n",
       "4  102496  438.00        2    0.0  1.0  0.383  0.228  1.054\n",
       "5  102496  438.25        2    0.0  1.0  0.489  0.189  1.053\n",
       "6  102496  438.50        4    0.0  1.0  0.552  0.166  1.053\n",
       "7  102496  438.75        2    0.0  1.0  0.450  0.204  1.053\n",
       "8  102496  439.00        2    0.0  1.0  0.395  0.224  1.053\n",
       "9  102496  439.25        2    0.0  1.0  0.372  0.232  1.053"
      ]
     },
     "execution_count": 3,
     "metadata": {},
     "output_type": "execute_result"
    }
   ],
   "source": [
    "#### Reading data from the csv file\n",
    "well_log_df=pd.read_csv(\"INTELLOG.csv\")\n",
    "print('Shape of the data:', well_log_df.shape)\n",
    "\n",
    "#### Checking for duplicate rows and delete them if any\n",
    "if(well_log_df.duplicated().sum()>0):      \n",
    "    well_log_df=well_log_df.drop_duplicates()\n",
    "    print('Shape After deleting duplicate values:', well_log_df.shape)\n",
    "\n",
    "#### Printing sample data\n",
    "#### Start observing the Quantitative/Categorical(Nominal/Ordinal)/Qualitative variables\n",
    "well_log_df.head(10)"
   ]
  },
  {
   "cell_type": "markdown",
   "id": "f268e8e9",
   "metadata": {},
   "source": [
    "## <a id='3'> Defining the Problem Statement </a>"
   ]
  },
  {
   "cell_type": "markdown",
   "id": "56836c0b",
   "metadata": {},
   "source": [
    "<b> Create a Machine Learning model to identify the lithology code (Lith_id) for well log data </b>\n",
    "- Target Variable : Lith_id\n",
    "- Predictors : Depth, SW, VSH etc.\n",
    "\n",
    "As the target variable is a categorical(nominal) feature, we need to create a supervised ML classifier."
   ]
  },
  {
   "cell_type": "markdown",
   "id": "bdd8c557",
   "metadata": {},
   "source": [
    "## <a id='4'>Looking at the frequency distribution of Target variable</a>"
   ]
  },
  {
   "cell_type": "markdown",
   "id": "78f43cdc",
   "metadata": {},
   "source": [
    "- If there are classes for which the trainng set doesn't have adequate data rows, the model will not be able to learn some particular scenarios. Our model will be biased for those classes which have higher number of data rows.\n",
    "- Imbalanced classification is the problem of classification when there is an unequal distribution of classes in the training dataset.\n",
    "- The distribution can vary from a slight bias to a severe imbalance where there is one example in the minority class for hundreds, thousands, or millions of examples in the majority class or classes.\n",
    "\n",
    "- Slight Imbalance- An imbalanced classification problem where the distribution of examples is uneven by a small amount in the training dataset (e.g. 4:6).\n",
    "- Severe Imbalance- An imbalanced classification problem where the distribution of examples is uneven by a large amount in the training dataset (e.g. 1:100 or more).\n"
   ]
  },
  {
   "cell_type": "code",
   "execution_count": 4,
   "id": "eaaf4a29",
   "metadata": {},
   "outputs": [
    {
     "data": {
      "text/plain": [
       "<AxesSubplot:>"
      ]
     },
     "execution_count": 4,
     "metadata": {},
     "output_type": "execute_result"
    },
    {
     "data": {
      "image/png": "[encoded data removed]",
      "text/plain": [
       "<Figure size 432x288 with 1 Axes>"
      ]
     },
     "metadata": {
      "needs_background": "light"
     },
     "output_type": "display_data"
    }
   ],
   "source": [
    "#### Plotting histogram of the target variable \n",
    "well_log_df['Lith_id'].hist(bins=7)"
   ]
  },
  {
   "cell_type": "code",
   "execution_count": 5,
   "id": "0bca3a91",
   "metadata": {},
   "outputs": [
    {
     "data": {
      "text/plain": [
       "1    158516\n",
       "5    149757\n",
       "4    135740\n",
       "2    119512\n",
       "3     12898\n",
       "6      1769\n",
       "0      1654\n",
       "Name: Lith_id, dtype: int64"
      ]
     },
     "execution_count": 5,
     "metadata": {},
     "output_type": "execute_result"
    }
   ],
   "source": [
    "#### Looking at the value count of unique values in target variable\n",
    "well_log_df['Lith_id'].value_counts()"
   ]
  },
  {
   "cell_type": "markdown",
   "id": "9a16be43",
   "metadata": {},
   "source": [
    "In this case, classes 0, 6 and 3 are minority classes. Since, none of these classes is of utmost important to classify. If it would have been important classes to classify, we could have used techniques of imbalanced classification. In this case we can club all the minority classes to make one majority class and label them as 'Others'. "
   ]
  },
  {
   "cell_type": "code",
   "execution_count": 6,
   "id": "f30d4ebb",
   "metadata": {},
   "outputs": [],
   "source": [
    "#### Merging class labels 0,3,6 into 3. \n",
    "well_log_df['Lith_id_new']=well_log_df['Lith_id'].replace([0,3,6],[3,3,3])"
   ]
  },
  {
   "cell_type": "code",
   "execution_count": 7,
   "id": "4be9c678",
   "metadata": {},
   "outputs": [
    {
     "data": {
      "text/plain": [
       "<AxesSubplot:>"
      ]
     },
     "execution_count": 7,
     "metadata": {},
     "output_type": "execute_result"
    },
    {
     "data": {
      "image/png": "[encoded data removed]",
      "text/plain": [
       "<Figure size 432x288 with 1 Axes>"
      ]
     },
     "metadata": {
      "needs_background": "light"
     },
     "output_type": "display_data"
    }
   ],
   "source": [
    "#### Plotting histogram of the target variable \n",
    "well_log_df['Lith_id_new'].hist(bins=5)"
   ]
  },
  {
   "cell_type": "markdown",
   "id": "0e6611bd",
   "metadata": {},
   "source": [
    "This makes the imbalanced ratio less severe. We have now 5 classes as follows:\n",
    "        \n",
    "        1\tSand\n",
    "        2\tShalySand\n",
    "        3\tOther\n",
    "        4\tShale\n",
    "        5\tCoal"
   ]
  },
  {
   "cell_type": "markdown",
   "id": "ede5e7e9",
   "metadata": {},
   "source": [
    "## <a id='5'>Basic Data Exploration</a>"
   ]
  },
  {
   "cell_type": "markdown",
   "id": "ba426ef1",
   "metadata": {},
   "source": [
    "This step is performed to guage the overall data. It's volume, the types of columns present in the data. Initial assessment of the data should be done to identify which columns are Quantitative, Categorical or Qualitative.\n",
    "\n",
    "This step helps to move ahead with the column rejection process. Try to look at each column carefully and ask, does this column affect the class label of the Target variable? For example in this case, you would like to ask yourself, does this column affects the lithology present? If the answer is a clear \"No\", then remove the column immediately from the data, otherwise keep the column for further analysis.\n",
    "\n",
    "There are four commands which are used for Basic data exploration in Python\n",
    "\n",
    "    - head() : This helps to see a few sample rows of the data\n",
    "    - info() : This provides the summarized information of the data\n",
    "    - describe() : This provides the descriptive statistical details of the data\n",
    "    - nunique(): This helps us to identify if a column is categorical or continuous\n"
   ]
  },
  {
   "cell_type": "code",
   "execution_count": 8,
   "id": "70987d47",
   "metadata": {},
   "outputs": [
    {
     "data": {
      "text/html": [
       "<div>\n",
       "<style scoped>\n",
       "    .dataframe tbody tr th:only-of-type {\n",
       "        vertical-align: middle;\n",
       "    }\n",
       "\n",
       "    .dataframe tbody tr th {\n",
       "        vertical-align: top;\n",
       "    }\n",
       "\n",
       "    .dataframe thead th {\n",
       "        text-align: right;\n",
       "    }\n",
       "</style>\n",
       "<table border=\"1\" class=\"dataframe\">\n",
       "  <thead>\n",
       "    <tr style=\"text-align: right;\">\n",
       "      <th></th>\n",
       "      <th>SitID</th>\n",
       "      <th>DEPTH</th>\n",
       "      <th>Lith_id</th>\n",
       "      <th>W_Tar</th>\n",
       "      <th>SW</th>\n",
       "      <th>VSH</th>\n",
       "      <th>PHI</th>\n",
       "      <th>RW</th>\n",
       "      <th>Lith_id_new</th>\n",
       "    </tr>\n",
       "  </thead>\n",
       "  <tbody>\n",
       "    <tr>\n",
       "      <th>0</th>\n",
       "      <td>102496</td>\n",
       "      <td>437.00</td>\n",
       "      <td>5</td>\n",
       "      <td>0.0</td>\n",
       "      <td>1.0</td>\n",
       "      <td>1.000</td>\n",
       "      <td>0.000</td>\n",
       "      <td>1.054</td>\n",
       "      <td>5</td>\n",
       "    </tr>\n",
       "    <tr>\n",
       "      <th>1</th>\n",
       "      <td>102496</td>\n",
       "      <td>437.25</td>\n",
       "      <td>5</td>\n",
       "      <td>0.0</td>\n",
       "      <td>1.0</td>\n",
       "      <td>0.956</td>\n",
       "      <td>0.016</td>\n",
       "      <td>1.054</td>\n",
       "      <td>5</td>\n",
       "    </tr>\n",
       "    <tr>\n",
       "      <th>2</th>\n",
       "      <td>102496</td>\n",
       "      <td>437.50</td>\n",
       "      <td>5</td>\n",
       "      <td>0.0</td>\n",
       "      <td>1.0</td>\n",
       "      <td>0.776</td>\n",
       "      <td>0.083</td>\n",
       "      <td>1.054</td>\n",
       "      <td>5</td>\n",
       "    </tr>\n",
       "    <tr>\n",
       "      <th>3</th>\n",
       "      <td>102496</td>\n",
       "      <td>437.75</td>\n",
       "      <td>4</td>\n",
       "      <td>0.0</td>\n",
       "      <td>1.0</td>\n",
       "      <td>0.583</td>\n",
       "      <td>0.154</td>\n",
       "      <td>1.054</td>\n",
       "      <td>4</td>\n",
       "    </tr>\n",
       "    <tr>\n",
       "      <th>4</th>\n",
       "      <td>102496</td>\n",
       "      <td>438.00</td>\n",
       "      <td>2</td>\n",
       "      <td>0.0</td>\n",
       "      <td>1.0</td>\n",
       "      <td>0.383</td>\n",
       "      <td>0.228</td>\n",
       "      <td>1.054</td>\n",
       "      <td>2</td>\n",
       "    </tr>\n",
       "  </tbody>\n",
       "</table>\n",
       "</div>"
      ],
      "text/plain": [
       "    SitID   DEPTH  Lith_id  W_Tar   SW    VSH    PHI     RW  Lith_id_new\n",
       "0  102496  437.00        5    0.0  1.0  1.000  0.000  1.054            5\n",
       "1  102496  437.25        5    0.0  1.0  0.956  0.016  1.054            5\n",
       "2  102496  437.50        5    0.0  1.0  0.776  0.083  1.054            5\n",
       "3  102496  437.75        4    0.0  1.0  0.583  0.154  1.054            4\n",
       "4  102496  438.00        2    0.0  1.0  0.383  0.228  1.054            2"
      ]
     },
     "execution_count": 8,
     "metadata": {},
     "output_type": "execute_result"
    }
   ],
   "source": [
    "#### Looking at sample rows in the data\n",
    "well_log_df.head()"
   ]
  },
  {
   "cell_type": "code",
   "execution_count": 9,
   "id": "3c6a9bc0",
   "metadata": {},
   "outputs": [
    {
     "name": "stdout",
     "output_type": "stream",
     "text": [
      "<class 'pandas.core.frame.DataFrame'>\n",
      "RangeIndex: 579846 entries, 0 to 579845\n",
      "Data columns (total 9 columns):\n",
      " #   Column       Non-Null Count   Dtype  \n",
      "---  ------       --------------   -----  \n",
      " 0   SitID        579846 non-null  int64  \n",
      " 1   DEPTH        579846 non-null  float64\n",
      " 2   Lith_id      579846 non-null  int64  \n",
      " 3   W_Tar        579846 non-null  float64\n",
      " 4   SW           579846 non-null  float64\n",
      " 5   VSH          579846 non-null  float64\n",
      " 6   PHI          579846 non-null  float64\n",
      " 7   RW           579846 non-null  object \n",
      " 8   Lith_id_new  579846 non-null  int64  \n",
      "dtypes: float64(5), int64(3), object(1)\n",
      "memory usage: 39.8+ MB\n"
     ]
    }
   ],
   "source": [
    "#### Observing the summarized information of data\n",
    "#### Data types, Missing values based on number of non-null values Vs total rows etc.\n",
    "#### Remove those variables from data which have too many missing values (Missing Values > 30%)\n",
    "well_log_df.info()"
   ]
  },
  {
   "cell_type": "markdown",
   "id": "56ff1066",
   "metadata": {},
   "source": [
    "RW is not a categorical variable. Instead it should be considered as float. It means we need to convert the data type and the again look for the summarized info"
   ]
  },
  {
   "cell_type": "code",
   "execution_count": 11,
   "id": "c5e62531",
   "metadata": {},
   "outputs": [],
   "source": [
    "#### Converting Object type or string type to Float or int type in pandas\n",
    "''' Always try to execute below command first without the errors argument so that you can get to \n",
    "    know what is making it's data type as object '''\n",
    "\n",
    "well_log_df['RW']=pd.to_numeric(well_log_df['RW'],errors='coerce')"
   ]
  },
  {
   "cell_type": "code",
   "execution_count": 12,
   "id": "6cd60007",
   "metadata": {},
   "outputs": [
    {
     "name": "stdout",
     "output_type": "stream",
     "text": [
      "<class 'pandas.core.frame.DataFrame'>\n",
      "RangeIndex: 579846 entries, 0 to 579845\n",
      "Data columns (total 9 columns):\n",
      " #   Column       Non-Null Count   Dtype  \n",
      "---  ------       --------------   -----  \n",
      " 0   SitID        579846 non-null  int64  \n",
      " 1   DEPTH        579846 non-null  float64\n",
      " 2   Lith_id      579846 non-null  int64  \n",
      " 3   W_Tar        579846 non-null  float64\n",
      " 4   SW           579846 non-null  float64\n",
      " 5   VSH          579846 non-null  float64\n",
      " 6   PHI          579846 non-null  float64\n",
      " 7   RW           564035 non-null  float64\n",
      " 8   Lith_id_new  579846 non-null  int64  \n",
      "dtypes: float64(6), int64(3)\n",
      "memory usage: 39.8 MB\n"
     ]
    }
   ],
   "source": [
    "#### Observing the summarized information of data\n",
    "well_log_df.info()"
   ]
  },
  {
   "cell_type": "markdown",
   "id": "06261966",
   "metadata": {},
   "source": [
    "RW is the only column having missing values, which are quite few."
   ]
  },
  {
   "cell_type": "code",
   "execution_count": 13,
   "id": "fe8c4330",
   "metadata": {},
   "outputs": [
    {
     "data": {
      "text/html": [
       "<div>\n",
       "<style scoped>\n",
       "    .dataframe tbody tr th:only-of-type {\n",
       "        vertical-align: middle;\n",
       "    }\n",
       "\n",
       "    .dataframe tbody tr th {\n",
       "        vertical-align: top;\n",
       "    }\n",
       "\n",
       "    .dataframe thead th {\n",
       "        text-align: right;\n",
       "    }\n",
       "</style>\n",
       "<table border=\"1\" class=\"dataframe\">\n",
       "  <thead>\n",
       "    <tr style=\"text-align: right;\">\n",
       "      <th></th>\n",
       "      <th>SitID</th>\n",
       "      <th>DEPTH</th>\n",
       "      <th>Lith_id</th>\n",
       "      <th>W_Tar</th>\n",
       "      <th>SW</th>\n",
       "      <th>VSH</th>\n",
       "      <th>PHI</th>\n",
       "      <th>RW</th>\n",
       "      <th>Lith_id_new</th>\n",
       "    </tr>\n",
       "  </thead>\n",
       "  <tbody>\n",
       "    <tr>\n",
       "      <th>count</th>\n",
       "      <td>579846.000000</td>\n",
       "      <td>579846.000000</td>\n",
       "      <td>579846.000000</td>\n",
       "      <td>579846.000000</td>\n",
       "      <td>579846.000000</td>\n",
       "      <td>579846.000000</td>\n",
       "      <td>579846.000000</td>\n",
       "      <td>564035.000000</td>\n",
       "      <td>579846.000000</td>\n",
       "    </tr>\n",
       "    <tr>\n",
       "      <th>mean</th>\n",
       "      <td>119191.947886</td>\n",
       "      <td>381.550537</td>\n",
       "      <td>2.998370</td>\n",
       "      <td>0.008972</td>\n",
       "      <td>0.778169</td>\n",
       "      <td>0.482571</td>\n",
       "      <td>0.170572</td>\n",
       "      <td>0.701235</td>\n",
       "      <td>2.997775</td>\n",
       "    </tr>\n",
       "    <tr>\n",
       "      <th>std</th>\n",
       "      <td>17010.229729</td>\n",
       "      <td>169.285127</td>\n",
       "      <td>1.618618</td>\n",
       "      <td>0.136901</td>\n",
       "      <td>0.293630</td>\n",
       "      <td>0.280934</td>\n",
       "      <td>0.104686</td>\n",
       "      <td>1.343255</td>\n",
       "      <td>1.602121</td>\n",
       "    </tr>\n",
       "    <tr>\n",
       "      <th>min</th>\n",
       "      <td>102496.000000</td>\n",
       "      <td>0.000000</td>\n",
       "      <td>0.000000</td>\n",
       "      <td>-1.167000</td>\n",
       "      <td>0.000000</td>\n",
       "      <td>0.000000</td>\n",
       "      <td>0.000000</td>\n",
       "      <td>-3.760000</td>\n",
       "      <td>1.000000</td>\n",
       "    </tr>\n",
       "    <tr>\n",
       "      <th>25%</th>\n",
       "      <td>108693.000000</td>\n",
       "      <td>247.940000</td>\n",
       "      <td>1.000000</td>\n",
       "      <td>0.000000</td>\n",
       "      <td>0.554000</td>\n",
       "      <td>0.250000</td>\n",
       "      <td>0.087000</td>\n",
       "      <td>0.509000</td>\n",
       "      <td>1.000000</td>\n",
       "    </tr>\n",
       "    <tr>\n",
       "      <th>50%</th>\n",
       "      <td>112994.000000</td>\n",
       "      <td>426.570000</td>\n",
       "      <td>3.000000</td>\n",
       "      <td>0.000000</td>\n",
       "      <td>1.000000</td>\n",
       "      <td>0.488000</td>\n",
       "      <td>0.163000</td>\n",
       "      <td>0.628000</td>\n",
       "      <td>3.000000</td>\n",
       "    </tr>\n",
       "    <tr>\n",
       "      <th>75%</th>\n",
       "      <td>122505.000000</td>\n",
       "      <td>494.750000</td>\n",
       "      <td>5.000000</td>\n",
       "      <td>0.036000</td>\n",
       "      <td>1.000000</td>\n",
       "      <td>0.704000</td>\n",
       "      <td>0.255000</td>\n",
       "      <td>0.764000</td>\n",
       "      <td>5.000000</td>\n",
       "    </tr>\n",
       "    <tr>\n",
       "      <th>max</th>\n",
       "      <td>184130.000000</td>\n",
       "      <td>960.040000</td>\n",
       "      <td>6.000000</td>\n",
       "      <td>0.184000</td>\n",
       "      <td>1.000000</td>\n",
       "      <td>1.000000</td>\n",
       "      <td>0.471000</td>\n",
       "      <td>114.300000</td>\n",
       "      <td>5.000000</td>\n",
       "    </tr>\n",
       "  </tbody>\n",
       "</table>\n",
       "</div>"
      ],
      "text/plain": [
       "               SitID          DEPTH        Lith_id          W_Tar  \\\n",
       "count  579846.000000  579846.000000  579846.000000  579846.000000   \n",
       "mean   119191.947886     381.550537       2.998370       0.008972   \n",
       "std     17010.229729     169.285127       1.618618       0.136901   \n",
       "min    102496.000000       0.000000       0.000000      -1.167000   \n",
       "25%    108693.000000     247.940000       1.000000       0.000000   \n",
       "50%    112994.000000     426.570000       3.000000       0.000000   \n",
       "75%    122505.000000     494.750000       5.000000       0.036000   \n",
       "max    184130.000000     960.040000       6.000000       0.184000   \n",
       "\n",
       "                  SW            VSH            PHI             RW  \\\n",
       "count  579846.000000  579846.000000  579846.000000  564035.000000   \n",
       "mean        0.778169       0.482571       0.170572       0.701235   \n",
       "std         0.293630       0.280934       0.104686       1.343255   \n",
       "min         0.000000       0.000000       0.000000      -3.760000   \n",
       "25%         0.554000       0.250000       0.087000       0.509000   \n",
       "50%         1.000000       0.488000       0.163000       0.628000   \n",
       "75%         1.000000       0.704000       0.255000       0.764000   \n",
       "max         1.000000       1.000000       0.471000     114.300000   \n",
       "\n",
       "         Lith_id_new  \n",
       "count  579846.000000  \n",
       "mean        2.997775  \n",
       "std         1.602121  \n",
       "min         1.000000  \n",
       "25%         1.000000  \n",
       "50%         3.000000  \n",
       "75%         5.000000  \n",
       "max         5.000000  "
      ]
     },
     "execution_count": 13,
     "metadata": {},
     "output_type": "execute_result"
    }
   ],
   "source": [
    "#### Showing the descriptive statistics of the data\n",
    "well_log_df.describe(include='all')"
   ]
  },
  {
   "cell_type": "code",
   "execution_count": 14,
   "id": "5e262e12",
   "metadata": {},
   "outputs": [
    {
     "data": {
      "text/plain": [
       "SitID           2175\n",
       "DEPTH          57186\n",
       "Lith_id            7\n",
       "W_Tar            505\n",
       "SW               962\n",
       "VSH             1001\n",
       "PHI              437\n",
       "RW              4924\n",
       "Lith_id_new        5\n",
       "dtype: int64"
      ]
     },
     "execution_count": 14,
     "metadata": {},
     "output_type": "execute_result"
    }
   ],
   "source": [
    "# Finging unique values for each column\n",
    "# TO understand which column is categorical and which one is Continuous\n",
    "# Typically if the numer of unique values are < 20 then the variable is likely to be a category otherwise continuous\n",
    "well_log_df.nunique()"
   ]
  },
  {
   "cell_type": "markdown",
   "id": "a255f2bf",
   "metadata": {},
   "source": [
    "All predictor variables are continuous."
   ]
  },
  {
   "cell_type": "markdown",
   "id": "2f75cd38",
   "metadata": {},
   "source": [
    "#### Basic Data Exploration Results"
   ]
  },
  {
   "cell_type": "markdown",
   "id": "ced93beb",
   "metadata": {},
   "source": [
    "Based on the basic exploration above, you can now create a simple report of the data, noting down your observations regarding each column. Hence, creating a initial roadmap for further analysis.\n",
    "\n",
    "The selected columns in this step are not final, further study will be done and then a final list will be created\n",
    "\n",
    "    Lith_id_new: Categorical. Selected. This is the Target Variable!\n",
    "    SitID: Categorical. Not Selected. (Though it affects Lith_id_new, we won't be having any data for new SitID.) \n",
    "    DEPTH: Continuous. Selected.\n",
    "    W_Tar: Continuous. Selected.\n",
    "    SW: Continuous. Selected.\n",
    "    VSH: Continuous. Selected.\n",
    "    PHI: Continuous. Selected.\n",
    "    RW: Continuous. Selected.\n",
    "    Lith_id: Categorical. Not Selected. (It's the older version of Lith_id)\n"
   ]
  },
  {
   "cell_type": "markdown",
   "id": "53a92269",
   "metadata": {},
   "source": [
    "## <a id='6'>Visual Exploratory Data Analysis</a>"
   ]
  },
  {
   "cell_type": "markdown",
   "id": "4dd75ed4",
   "metadata": {},
   "source": [
    "Plot \n",
    "- Bar plots for categorical variables\n",
    "- Histogram for continuous variables"
   ]
  },
  {
   "cell_type": "markdown",
   "id": "cfd82a60",
   "metadata": {},
   "source": [
    "### Visualising Continuous Variables using Histograms"
   ]
  },
  {
   "cell_type": "markdown",
   "id": "6fdf002c",
   "metadata": {},
   "source": [
    "All the predictor variables that we have are continuous."
   ]
  },
  {
   "cell_type": "code",
   "execution_count": 15,
   "id": "c647dc4f",
   "metadata": {},
   "outputs": [
    {
     "data": {
      "text/plain": [
       "array([[<AxesSubplot:title={'center':'DEPTH'}>,\n",
       "        <AxesSubplot:title={'center':'W_Tar'}>],\n",
       "       [<AxesSubplot:title={'center':'SW'}>,\n",
       "        <AxesSubplot:title={'center':'VSH'}>],\n",
       "       [<AxesSubplot:title={'center':'PHI'}>,\n",
       "        <AxesSubplot:title={'center':'RW'}>]], dtype=object)"
      ]
     },
     "execution_count": 15,
     "metadata": {},
     "output_type": "execute_result"
    },
    {
     "data": {
      "image/png": "[encoded data removed]",
      "text/plain": [
       "<Figure size 1296x720 with 6 Axes>"
      ]
     },
     "metadata": {
      "needs_background": "light"
     },
     "output_type": "display_data"
    }
   ],
   "source": [
    "#### Plotting histograms of multiple columns together\n",
    "well_log_df.hist(['DEPTH','W_Tar','SW','VSH','PHI','RW'], figsize=(18,10))"
   ]
  },
  {
   "cell_type": "markdown",
   "id": "17ff8f76",
   "metadata": {},
   "source": [
    "###  Interpretation"
   ]
  },
  {
   "cell_type": "markdown",
   "id": "e38360d4",
   "metadata": {},
   "source": [
    "Histogram sows us the data distribution for a single continuous variable.\n",
    " \n",
    "The X-axis shows the range of values and Y-axis represent the number of values in that range.\n",
    "\n",
    "The ideal outcome for histogram is a bell curve or slightly skewed bell curve. If there is too much skewness, then outlier treatment should be done and the column should be re-examined, if that also does not solve the problem then only reject the column.\n",
    "\n",
    "<b>Selected Continuous Variables:</b>\n",
    "\n",
    "   - <b> DEPTH </b> : Selected. The distribution is good.\n",
    "   - <b>W_Tar</b> : Seleced. The distribution is good. There are some outliers lying in negative range, need to treat them.\n",
    "   - <b>SW</b> : Selected. The distribution is good.\n",
    "   - <b>PHI</b> : Selected. The distribution is good.\n",
    "   - <b>VSH</b> : Selected. The distribution is good.\n",
    "   - <b>RW</b> : Selected. Can't say whether the distribution is good or not. But it's ok. Outliers are there beyond 10 which are hardly visible in the histogram, need to treat them. Also, since it's resistivity, we need to log transform the values. One more thing, there are some negative values for RW which needs to be treated.\n"
   ]
  },
  {
   "cell_type": "markdown",
   "id": "ca5995c2",
   "metadata": {},
   "source": [
    "## <a id='7'>Outlier Treatment</a>"
   ]
  },
  {
   "cell_type": "markdown",
   "id": "9f9e6d82",
   "metadata": {},
   "source": [
    "Outliers are extreme values in the data which are far away from most of the values. You can see them as the tails in the histogram. \n",
    "\n",
    "Outlier must be treated separately for every column. As the treatment will be slightly different for each column.\n",
    "\n",
    "<b>Why I should treat the outliers? </b>\n",
    "\n",
    "Outliers bias the training of machine learning models. As the algorithm tries to fit the extreme value, it goes away from majority of the data.\n",
    "\n",
    "There are two ways to treat outliers in a column.\n",
    "\n",
    "    1st way: Delete the outlier rows. Only if there are just few rows lost as compared to total number of rows.\n",
    "    2nd way: Impute the outlier values with a logical business value\n",
    "\n",
    "<b> W_Tar Column </b> <br>\n",
    "Let's first consider the W_Tar column. As, you can see there are negative values of mass percentage of bitumen which is not possible. This might have occured due to some calibration error. So let's add some constant value say 2% in the whole column as it's only the relative values which will matter and then count the number of outliers. After adding 2, I am considering anything less than 1.9 to be an outlier. Since it's the relative value that matters, we just need to give it a value less than other values in the column. So, let's give it 1.9 so that the distribution doesn't go extreme. You may decide to delete these 1.53% rows as it's a small fraction of rows."
   ]
  },
  {
   "cell_type": "code",
   "execution_count": 16,
   "id": "6f632d8d",
   "metadata": {},
   "outputs": [
    {
     "name": "stdout",
     "output_type": "stream",
     "text": [
      "Percentage of rows having outlier values is  1.5378221113881962\n"
     ]
    }
   ],
   "source": [
    "#### Calculating number of outliers for W_Tar\n",
    "well_log_df['W_Tar_calibrated']=well_log_df['W_Tar']+2\n",
    "print('Percentage of rows having outlier values is ',len(well_log_df[well_log_df['W_Tar_calibrated']<1.9])/len(well_log_df)*100)"
   ]
  },
  {
   "cell_type": "code",
   "execution_count": 17,
   "id": "3efc62be",
   "metadata": {},
   "outputs": [],
   "source": [
    "#### Replacing the value of outliers for W_Tar with 1.9.\n",
    "well_log_df['W_Tar_calibrated']=well_log_df['W_Tar_calibrated'].where(well_log_df['W_Tar_calibrated']>=1.9,1.9)"
   ]
  },
  {
   "cell_type": "markdown",
   "id": "1985c090",
   "metadata": {},
   "source": [
    "Let's visualize the distribution again after outlier treatment."
   ]
  },
  {
   "cell_type": "code",
   "execution_count": 18,
   "id": "eaee4a15",
   "metadata": {},
   "outputs": [
    {
     "data": {
      "text/plain": [
       "<AxesSubplot:>"
      ]
     },
     "execution_count": 18,
     "metadata": {},
     "output_type": "execute_result"
    },
    {
     "data": {
      "image/png": "[encoded data removed]",
      "text/plain": [
       "<Figure size 432x288 with 1 Axes>"
      ]
     },
     "metadata": {
      "needs_background": "light"
     },
     "output_type": "display_data"
    }
   ],
   "source": [
    "#### Plotting histogram of W_Tar_Calibrated\n",
    "well_log_df['W_Tar_calibrated'].hist()"
   ]
  },
  {
   "cell_type": "markdown",
   "id": "2aa5b3c3",
   "metadata": {},
   "source": [
    "The distribution seems much better now, leaving the business meaning of the variable as intact.\n",
    "\n",
    "<b>RW Column</b> <br>\n",
    "Since resistivity can not be negative. The reason it's negative is might be due to the negative potential difference caused by the reverse of electrodes. So we should consider taking the absolute value of the Rw.\n",
    "Also, we need to log transform the resistivity as it's range varies on a log scale."
   ]
  },
  {
   "cell_type": "code",
   "execution_count": 19,
   "id": "25f57d98",
   "metadata": {},
   "outputs": [
    {
     "name": "stdout",
     "output_type": "stream",
     "text": [
      "The minimum positive value of RW is  0.076\n"
     ]
    }
   ],
   "source": [
    "#### Taking absolute of RW\n",
    "well_log_df['RW_log']=abs(well_log_df['RW'])\n",
    "print('The minimum positive value of RW is ',well_log_df[well_log_df['RW_log']!=0]['RW_log'].min())"
   ]
  },
  {
   "cell_type": "markdown",
   "id": "7f8a657b",
   "metadata": {},
   "source": [
    "We also need to check, why the value of RW is zero at some places. Since the log value of 0 is negative infinity, we need to replace the value of 0 with some low positive RW value. The minimum value is 0.076, we can replace it with some value like 0.07."
   ]
  },
  {
   "cell_type": "code",
   "execution_count": 20,
   "id": "992c438e",
   "metadata": {},
   "outputs": [
    {
     "data": {
      "text/html": [
       "<div>\n",
       "<style scoped>\n",
       "    .dataframe tbody tr th:only-of-type {\n",
       "        vertical-align: middle;\n",
       "    }\n",
       "\n",
       "    .dataframe tbody tr th {\n",
       "        vertical-align: top;\n",
       "    }\n",
       "\n",
       "    .dataframe thead th {\n",
       "        text-align: right;\n",
       "    }\n",
       "</style>\n",
       "<table border=\"1\" class=\"dataframe\">\n",
       "  <thead>\n",
       "    <tr style=\"text-align: right;\">\n",
       "      <th></th>\n",
       "      <th>SitID</th>\n",
       "      <th>DEPTH</th>\n",
       "      <th>Lith_id</th>\n",
       "      <th>W_Tar</th>\n",
       "      <th>SW</th>\n",
       "      <th>VSH</th>\n",
       "      <th>PHI</th>\n",
       "      <th>RW</th>\n",
       "      <th>Lith_id_new</th>\n",
       "      <th>W_Tar_calibrated</th>\n",
       "      <th>RW_log</th>\n",
       "    </tr>\n",
       "  </thead>\n",
       "  <tbody>\n",
       "    <tr>\n",
       "      <th>37403</th>\n",
       "      <td>104751</td>\n",
       "      <td>383.09</td>\n",
       "      <td>0</td>\n",
       "      <td>0.0</td>\n",
       "      <td>0.0</td>\n",
       "      <td>0.000</td>\n",
       "      <td>0.000</td>\n",
       "      <td>0.0</td>\n",
       "      <td>3</td>\n",
       "      <td>2.0</td>\n",
       "      <td>0.0</td>\n",
       "    </tr>\n",
       "    <tr>\n",
       "      <th>37404</th>\n",
       "      <td>104751</td>\n",
       "      <td>383.34</td>\n",
       "      <td>0</td>\n",
       "      <td>0.0</td>\n",
       "      <td>0.0</td>\n",
       "      <td>0.000</td>\n",
       "      <td>0.000</td>\n",
       "      <td>0.0</td>\n",
       "      <td>3</td>\n",
       "      <td>2.0</td>\n",
       "      <td>0.0</td>\n",
       "    </tr>\n",
       "    <tr>\n",
       "      <th>80933</th>\n",
       "      <td>106635</td>\n",
       "      <td>480.00</td>\n",
       "      <td>4</td>\n",
       "      <td>0.0</td>\n",
       "      <td>1.0</td>\n",
       "      <td>0.669</td>\n",
       "      <td>0.088</td>\n",
       "      <td>0.0</td>\n",
       "      <td>4</td>\n",
       "      <td>2.0</td>\n",
       "      <td>0.0</td>\n",
       "    </tr>\n",
       "    <tr>\n",
       "      <th>80934</th>\n",
       "      <td>106635</td>\n",
       "      <td>480.25</td>\n",
       "      <td>4</td>\n",
       "      <td>0.0</td>\n",
       "      <td>1.0</td>\n",
       "      <td>0.617</td>\n",
       "      <td>0.071</td>\n",
       "      <td>0.0</td>\n",
       "      <td>4</td>\n",
       "      <td>2.0</td>\n",
       "      <td>0.0</td>\n",
       "    </tr>\n",
       "    <tr>\n",
       "      <th>80935</th>\n",
       "      <td>106635</td>\n",
       "      <td>480.50</td>\n",
       "      <td>4</td>\n",
       "      <td>0.0</td>\n",
       "      <td>1.0</td>\n",
       "      <td>0.505</td>\n",
       "      <td>0.082</td>\n",
       "      <td>0.0</td>\n",
       "      <td>4</td>\n",
       "      <td>2.0</td>\n",
       "      <td>0.0</td>\n",
       "    </tr>\n",
       "    <tr>\n",
       "      <th>...</th>\n",
       "      <td>...</td>\n",
       "      <td>...</td>\n",
       "      <td>...</td>\n",
       "      <td>...</td>\n",
       "      <td>...</td>\n",
       "      <td>...</td>\n",
       "      <td>...</td>\n",
       "      <td>...</td>\n",
       "      <td>...</td>\n",
       "      <td>...</td>\n",
       "      <td>...</td>\n",
       "    </tr>\n",
       "    <tr>\n",
       "      <th>437065</th>\n",
       "      <td>122903</td>\n",
       "      <td>100.49</td>\n",
       "      <td>0</td>\n",
       "      <td>0.0</td>\n",
       "      <td>0.0</td>\n",
       "      <td>0.000</td>\n",
       "      <td>0.000</td>\n",
       "      <td>0.0</td>\n",
       "      <td>3</td>\n",
       "      <td>2.0</td>\n",
       "      <td>0.0</td>\n",
       "    </tr>\n",
       "    <tr>\n",
       "      <th>562425</th>\n",
       "      <td>165065</td>\n",
       "      <td>130.35</td>\n",
       "      <td>0</td>\n",
       "      <td>0.0</td>\n",
       "      <td>0.0</td>\n",
       "      <td>0.000</td>\n",
       "      <td>0.000</td>\n",
       "      <td>0.0</td>\n",
       "      <td>3</td>\n",
       "      <td>2.0</td>\n",
       "      <td>0.0</td>\n",
       "    </tr>\n",
       "    <tr>\n",
       "      <th>562426</th>\n",
       "      <td>165065</td>\n",
       "      <td>130.60</td>\n",
       "      <td>0</td>\n",
       "      <td>0.0</td>\n",
       "      <td>0.0</td>\n",
       "      <td>0.000</td>\n",
       "      <td>0.000</td>\n",
       "      <td>0.0</td>\n",
       "      <td>3</td>\n",
       "      <td>2.0</td>\n",
       "      <td>0.0</td>\n",
       "    </tr>\n",
       "    <tr>\n",
       "      <th>562427</th>\n",
       "      <td>165065</td>\n",
       "      <td>130.85</td>\n",
       "      <td>0</td>\n",
       "      <td>0.0</td>\n",
       "      <td>0.0</td>\n",
       "      <td>0.000</td>\n",
       "      <td>0.000</td>\n",
       "      <td>0.0</td>\n",
       "      <td>3</td>\n",
       "      <td>2.0</td>\n",
       "      <td>0.0</td>\n",
       "    </tr>\n",
       "    <tr>\n",
       "      <th>562428</th>\n",
       "      <td>165065</td>\n",
       "      <td>131.10</td>\n",
       "      <td>0</td>\n",
       "      <td>0.0</td>\n",
       "      <td>0.0</td>\n",
       "      <td>0.000</td>\n",
       "      <td>0.000</td>\n",
       "      <td>0.0</td>\n",
       "      <td>3</td>\n",
       "      <td>2.0</td>\n",
       "      <td>0.0</td>\n",
       "    </tr>\n",
       "  </tbody>\n",
       "</table>\n",
       "<p>1213 rows × 11 columns</p>\n",
       "</div>"
      ],
      "text/plain": [
       "         SitID   DEPTH  Lith_id  W_Tar   SW    VSH    PHI   RW  Lith_id_new  \\\n",
       "37403   104751  383.09        0    0.0  0.0  0.000  0.000  0.0            3   \n",
       "37404   104751  383.34        0    0.0  0.0  0.000  0.000  0.0            3   \n",
       "80933   106635  480.00        4    0.0  1.0  0.669  0.088  0.0            4   \n",
       "80934   106635  480.25        4    0.0  1.0  0.617  0.071  0.0            4   \n",
       "80935   106635  480.50        4    0.0  1.0  0.505  0.082  0.0            4   \n",
       "...        ...     ...      ...    ...  ...    ...    ...  ...          ...   \n",
       "437065  122903  100.49        0    0.0  0.0  0.000  0.000  0.0            3   \n",
       "562425  165065  130.35        0    0.0  0.0  0.000  0.000  0.0            3   \n",
       "562426  165065  130.60        0    0.0  0.0  0.000  0.000  0.0            3   \n",
       "562427  165065  130.85        0    0.0  0.0  0.000  0.000  0.0            3   \n",
       "562428  165065  131.10        0    0.0  0.0  0.000  0.000  0.0            3   \n",
       "\n",
       "        W_Tar_calibrated  RW_log  \n",
       "37403                2.0     0.0  \n",
       "37404                2.0     0.0  \n",
       "80933                2.0     0.0  \n",
       "80934                2.0     0.0  \n",
       "80935                2.0     0.0  \n",
       "...                  ...     ...  \n",
       "437065               2.0     0.0  \n",
       "562425               2.0     0.0  \n",
       "562426               2.0     0.0  \n",
       "562427               2.0     0.0  \n",
       "562428               2.0     0.0  \n",
       "\n",
       "[1213 rows x 11 columns]"
      ]
     },
     "execution_count": 20,
     "metadata": {},
     "output_type": "execute_result"
    }
   ],
   "source": [
    "#### Checking rows with RW_log=0\n",
    "well_log_df[well_log_df['RW_log']==0]"
   ]
  },
  {
   "cell_type": "markdown",
   "id": "37a152fa",
   "metadata": {},
   "source": [
    "Mostly rows have all the missing values for W_Tar,SW,VSH,PHI and that's why their Lith_id is 0 i.e. undefined. So the model should probably learn that and we don't need to remove these rows."
   ]
  },
  {
   "cell_type": "code",
   "execution_count": 21,
   "id": "303988ec",
   "metadata": {},
   "outputs": [],
   "source": [
    "#### Replacing value of RW_log = 0 with 0.07 and taking log base 10\n",
    "well_log_df['RW_log']=np.log10(well_log_df['RW_log'].replace(0,0.07))"
   ]
  },
  {
   "cell_type": "code",
   "execution_count": 22,
   "id": "9b7d17ba",
   "metadata": {},
   "outputs": [
    {
     "data": {
      "text/plain": [
       "<AxesSubplot:>"
      ]
     },
     "execution_count": 22,
     "metadata": {},
     "output_type": "execute_result"
    },
    {
     "data": {
      "image/png": "[encoded data removed]",
      "text/plain": [
       "<Figure size 432x288 with 1 Axes>"
      ]
     },
     "metadata": {
      "needs_background": "light"
     },
     "output_type": "display_data"
    }
   ],
   "source": [
    "#### Plotting histogram of W_Tar_Calibrated\n",
    "well_log_df['RW_log'].hist()"
   ]
  },
  {
   "cell_type": "markdown",
   "id": "9754a3a8",
   "metadata": {},
   "source": [
    "The distribution now seems much better than before."
   ]
  },
  {
   "cell_type": "markdown",
   "id": "2245339b",
   "metadata": {},
   "source": [
    "## <a id='8'> Treatment of Missing Values </a>"
   ]
  },
  {
   "cell_type": "markdown",
   "id": "88e3e19f",
   "metadata": {},
   "source": [
    "Missing values of every column should be treated separately.\n",
    "\n",
    "If a column has more than 30% data missing, then that column must be rejected because too much information is missing. There is no point of treating missing values for such a large amount of data.\n",
    "\n",
    "There are below options for treating missing values in data.\n",
    "\n",
    "   - Delete the missing value rows if there are only few records\n",
    "   - Impute the missing values with MEDIAN or MEAN value for continuous variables\n",
    "   - Impute the missing values with MODE value for categorical variables\n",
    "   - nterpolate the values based on nearby values\n",
    "   - Interpolate the values based on business logic\n",
    "   \n",
    "Let's see which columns has missing values in this case.\n"
   ]
  },
  {
   "cell_type": "code",
   "execution_count": 23,
   "id": "2831f3cc",
   "metadata": {},
   "outputs": [
    {
     "data": {
      "text/plain": [
       "SitID                   0\n",
       "DEPTH                   0\n",
       "Lith_id                 0\n",
       "W_Tar                   0\n",
       "SW                      0\n",
       "VSH                     0\n",
       "PHI                     0\n",
       "RW                  15811\n",
       "Lith_id_new             0\n",
       "W_Tar_calibrated        0\n",
       "RW_log              15811\n",
       "dtype: int64"
      ]
     },
     "execution_count": 23,
     "metadata": {},
     "output_type": "execute_result"
    }
   ],
   "source": [
    "#### Finding how many missing values are there for every column\n",
    "well_log_df.isnull().sum()"
   ]
  },
  {
   "cell_type": "code",
   "execution_count": 24,
   "id": "d4138667",
   "metadata": {},
   "outputs": [
    {
     "data": {
      "text/html": [
       "<div>\n",
       "<style scoped>\n",
       "    .dataframe tbody tr th:only-of-type {\n",
       "        vertical-align: middle;\n",
       "    }\n",
       "\n",
       "    .dataframe tbody tr th {\n",
       "        vertical-align: top;\n",
       "    }\n",
       "\n",
       "    .dataframe thead th {\n",
       "        text-align: right;\n",
       "    }\n",
       "</style>\n",
       "<table border=\"1\" class=\"dataframe\">\n",
       "  <thead>\n",
       "    <tr style=\"text-align: right;\">\n",
       "      <th></th>\n",
       "      <th>SitID</th>\n",
       "      <th>DEPTH</th>\n",
       "      <th>Lith_id</th>\n",
       "      <th>W_Tar</th>\n",
       "      <th>SW</th>\n",
       "      <th>VSH</th>\n",
       "      <th>PHI</th>\n",
       "      <th>RW</th>\n",
       "      <th>Lith_id_new</th>\n",
       "      <th>W_Tar_calibrated</th>\n",
       "      <th>RW_log</th>\n",
       "    </tr>\n",
       "  </thead>\n",
       "  <tbody>\n",
       "    <tr>\n",
       "      <th>52895</th>\n",
       "      <td>105794</td>\n",
       "      <td>482.28</td>\n",
       "      <td>5</td>\n",
       "      <td>0.012</td>\n",
       "      <td>0.677</td>\n",
       "      <td>0.774</td>\n",
       "      <td>0.086</td>\n",
       "      <td>NaN</td>\n",
       "      <td>5</td>\n",
       "      <td>2.012</td>\n",
       "      <td>NaN</td>\n",
       "    </tr>\n",
       "    <tr>\n",
       "      <th>52896</th>\n",
       "      <td>105794</td>\n",
       "      <td>482.53</td>\n",
       "      <td>1</td>\n",
       "      <td>0.000</td>\n",
       "      <td>1.000</td>\n",
       "      <td>0.000</td>\n",
       "      <td>0.199</td>\n",
       "      <td>NaN</td>\n",
       "      <td>1</td>\n",
       "      <td>2.000</td>\n",
       "      <td>NaN</td>\n",
       "    </tr>\n",
       "    <tr>\n",
       "      <th>52897</th>\n",
       "      <td>105794</td>\n",
       "      <td>482.78</td>\n",
       "      <td>3</td>\n",
       "      <td>0.000</td>\n",
       "      <td>1.000</td>\n",
       "      <td>0.000</td>\n",
       "      <td>0.169</td>\n",
       "      <td>NaN</td>\n",
       "      <td>3</td>\n",
       "      <td>2.000</td>\n",
       "      <td>NaN</td>\n",
       "    </tr>\n",
       "    <tr>\n",
       "      <th>52898</th>\n",
       "      <td>105794</td>\n",
       "      <td>483.03</td>\n",
       "      <td>3</td>\n",
       "      <td>0.009</td>\n",
       "      <td>0.878</td>\n",
       "      <td>0.000</td>\n",
       "      <td>0.179</td>\n",
       "      <td>NaN</td>\n",
       "      <td>3</td>\n",
       "      <td>2.009</td>\n",
       "      <td>NaN</td>\n",
       "    </tr>\n",
       "    <tr>\n",
       "      <th>52899</th>\n",
       "      <td>105796</td>\n",
       "      <td>460.00</td>\n",
       "      <td>5</td>\n",
       "      <td>0.005</td>\n",
       "      <td>0.763</td>\n",
       "      <td>0.867</td>\n",
       "      <td>0.050</td>\n",
       "      <td>NaN</td>\n",
       "      <td>5</td>\n",
       "      <td>2.005</td>\n",
       "      <td>NaN</td>\n",
       "    </tr>\n",
       "    <tr>\n",
       "      <th>...</th>\n",
       "      <td>...</td>\n",
       "      <td>...</td>\n",
       "      <td>...</td>\n",
       "      <td>...</td>\n",
       "      <td>...</td>\n",
       "      <td>...</td>\n",
       "      <td>...</td>\n",
       "      <td>...</td>\n",
       "      <td>...</td>\n",
       "      <td>...</td>\n",
       "      <td>...</td>\n",
       "    </tr>\n",
       "    <tr>\n",
       "      <th>561430</th>\n",
       "      <td>164968</td>\n",
       "      <td>260.00</td>\n",
       "      <td>5</td>\n",
       "      <td>0.000</td>\n",
       "      <td>1.000</td>\n",
       "      <td>0.779</td>\n",
       "      <td>0.084</td>\n",
       "      <td>NaN</td>\n",
       "      <td>5</td>\n",
       "      <td>2.000</td>\n",
       "      <td>NaN</td>\n",
       "    </tr>\n",
       "    <tr>\n",
       "      <th>561589</th>\n",
       "      <td>165028</td>\n",
       "      <td>239.25</td>\n",
       "      <td>5</td>\n",
       "      <td>0.000</td>\n",
       "      <td>1.000</td>\n",
       "      <td>0.708</td>\n",
       "      <td>0.111</td>\n",
       "      <td>NaN</td>\n",
       "      <td>5</td>\n",
       "      <td>2.000</td>\n",
       "      <td>NaN</td>\n",
       "    </tr>\n",
       "    <tr>\n",
       "      <th>561590</th>\n",
       "      <td>165028</td>\n",
       "      <td>239.50</td>\n",
       "      <td>4</td>\n",
       "      <td>0.000</td>\n",
       "      <td>1.000</td>\n",
       "      <td>0.692</td>\n",
       "      <td>0.117</td>\n",
       "      <td>NaN</td>\n",
       "      <td>4</td>\n",
       "      <td>2.000</td>\n",
       "      <td>NaN</td>\n",
       "    </tr>\n",
       "    <tr>\n",
       "      <th>561591</th>\n",
       "      <td>165028</td>\n",
       "      <td>239.75</td>\n",
       "      <td>4</td>\n",
       "      <td>0.000</td>\n",
       "      <td>1.000</td>\n",
       "      <td>0.680</td>\n",
       "      <td>0.121</td>\n",
       "      <td>NaN</td>\n",
       "      <td>4</td>\n",
       "      <td>2.000</td>\n",
       "      <td>NaN</td>\n",
       "    </tr>\n",
       "    <tr>\n",
       "      <th>561592</th>\n",
       "      <td>165028</td>\n",
       "      <td>240.00</td>\n",
       "      <td>4</td>\n",
       "      <td>0.000</td>\n",
       "      <td>1.000</td>\n",
       "      <td>0.676</td>\n",
       "      <td>0.123</td>\n",
       "      <td>NaN</td>\n",
       "      <td>4</td>\n",
       "      <td>2.000</td>\n",
       "      <td>NaN</td>\n",
       "    </tr>\n",
       "  </tbody>\n",
       "</table>\n",
       "<p>15811 rows × 11 columns</p>\n",
       "</div>"
      ],
      "text/plain": [
       "         SitID   DEPTH  Lith_id  W_Tar     SW    VSH    PHI  RW  Lith_id_new  \\\n",
       "52895   105794  482.28        5  0.012  0.677  0.774  0.086 NaN            5   \n",
       "52896   105794  482.53        1  0.000  1.000  0.000  0.199 NaN            1   \n",
       "52897   105794  482.78        3  0.000  1.000  0.000  0.169 NaN            3   \n",
       "52898   105794  483.03        3  0.009  0.878  0.000  0.179 NaN            3   \n",
       "52899   105796  460.00        5  0.005  0.763  0.867  0.050 NaN            5   \n",
       "...        ...     ...      ...    ...    ...    ...    ...  ..          ...   \n",
       "561430  164968  260.00        5  0.000  1.000  0.779  0.084 NaN            5   \n",
       "561589  165028  239.25        5  0.000  1.000  0.708  0.111 NaN            5   \n",
       "561590  165028  239.50        4  0.000  1.000  0.692  0.117 NaN            4   \n",
       "561591  165028  239.75        4  0.000  1.000  0.680  0.121 NaN            4   \n",
       "561592  165028  240.00        4  0.000  1.000  0.676  0.123 NaN            4   \n",
       "\n",
       "        W_Tar_calibrated  RW_log  \n",
       "52895              2.012     NaN  \n",
       "52896              2.000     NaN  \n",
       "52897              2.000     NaN  \n",
       "52898              2.009     NaN  \n",
       "52899              2.005     NaN  \n",
       "...                  ...     ...  \n",
       "561430             2.000     NaN  \n",
       "561589             2.000     NaN  \n",
       "561590             2.000     NaN  \n",
       "561591             2.000     NaN  \n",
       "561592             2.000     NaN  \n",
       "\n",
       "[15811 rows x 11 columns]"
      ]
     },
     "execution_count": 24,
     "metadata": {},
     "output_type": "execute_result"
    }
   ],
   "source": [
    "#### Having a look at some rows out of these 15811. \n",
    "well_log_df[well_log_df['RW_log'].isnull()]"
   ]
  },
  {
   "cell_type": "markdown",
   "id": "2e74f836",
   "metadata": {},
   "source": [
    "There doesn't seem to be some kind of pattern or particular lithology where RW is missing. But we can see there are continuous rows, where the RW value is missing. So, it won't be a correct way to fill missing values based on nearby rows. I would like to fill the missing values based on the mean of resistivity values based on lithology."
   ]
  },
  {
   "cell_type": "code",
   "execution_count": 25,
   "id": "8f8da0ca",
   "metadata": {},
   "outputs": [],
   "source": [
    "#### Imputing mean of resitivity values based on lithology\n",
    "for i in range(7):\n",
    "    well_log_df['RW_log'].where((well_log_df['RW_log'].notna()) | (well_log_df['Lith_id']!=i),\n",
    "                                                  well_log_df[well_log_df['Lith_id']==i]['RW_log'].mean(),\n",
    "                                                          inplace=True)"
   ]
  },
  {
   "cell_type": "code",
   "execution_count": 26,
   "id": "dba896ab",
   "metadata": {},
   "outputs": [
    {
     "data": {
      "text/plain": [
       "SitID                   0\n",
       "DEPTH                   0\n",
       "Lith_id                 0\n",
       "W_Tar                   0\n",
       "SW                      0\n",
       "VSH                     0\n",
       "PHI                     0\n",
       "RW                  15811\n",
       "Lith_id_new             0\n",
       "W_Tar_calibrated        0\n",
       "RW_log                  0\n",
       "dtype: int64"
      ]
     },
     "execution_count": 26,
     "metadata": {},
     "output_type": "execute_result"
    }
   ],
   "source": [
    "#### Finding how many missing values are there for every column\n",
    "well_log_df.isnull().sum()"
   ]
  },
  {
   "cell_type": "markdown",
   "id": "064600f0",
   "metadata": {},
   "source": [
    "## <a id='9'>Feature Selection</a>"
   ]
  },
  {
   "cell_type": "markdown",
   "id": "d79bc565",
   "metadata": {},
   "source": [
    "Now let's choose the best columns/features which are correlated to the Target variable. We can do this directly by measuring the correlation values or ANOVA/Chi-Square tests. However, it is always advisab;e to visualize the relation between the Target variable and each of the predictors through some plots, to get a better sense of data.\n",
    "\n",
    "We can use the below mentioned techniques for visualizing relationship between two variables as well as measuring the strength statistically.\n",
    "\n",
    "<b> Visual exploration of relation between variables </b>\n",
    "- Continuous Vs Continuous -----> Scatter Plot\n",
    "- Categorical Vs Continuous -----> Box Plot\n",
    "- Categorical Vs Categorical -----> Grouped Bar Plots\n",
    "\n",
    "<b> Statistical relation strength between variables </b>\n",
    "- Continuous Vs Continuous ------> Correlation Matrix\n",
    "- Categorical Vs Continuous ------> ANOVA test\n",
    "- Categorical Vs Categorical ------> Chi-Square Test\n",
    "\n",
    "In this case, the target variable is categorical and all the predictors are continuous. So, we will use box plot for visualisation and ANOVA test for measuring relationship strength. "
   ]
  },
  {
   "cell_type": "code",
   "execution_count": 27,
   "id": "d9f83ff6",
   "metadata": {},
   "outputs": [
    {
     "data": {
      "image/png": "[encoded data removed]",
      "text/plain": [
       "<Figure size 1296x720 with 6 Axes>"
      ]
     },
     "metadata": {
      "needs_background": "light"
     },
     "output_type": "display_data"
    }
   ],
   "source": [
    "#### Creating Box plots for Categorical Target Variable \"Lith_id_new\" and continuous predictors\n",
    "# Continuous columns list\n",
    "ContinuousCols=['DEPTH', 'W_Tar_calibrated', 'SW', 'VSH', 'PHI', 'RW_log']\n",
    "\n",
    "# Creating subplots\n",
    "fig, PlotCanvas=plt.subplots(nrows=3, ncols=2, figsize=(18,10))\n",
    "fig.tight_layout(pad=5.0)\n",
    "\n",
    "# Plotting the boxplots in the subplots \n",
    "for PredictorCol , i in zip(ContinuousCols, range(len(ContinuousCols))):\n",
    "    well_log_df.boxplot(column=PredictorCol, by='Lith_id_new', figsize=(5,5), vert=True, ax=PlotCanvas[int(i/2)][int(i%2)])"
   ]
  },
  {
   "cell_type": "markdown",
   "id": "64ad2882",
   "metadata": {},
   "source": [
    "### Interpretation"
   ]
  },
  {
   "cell_type": "markdown",
   "id": "0aeece13",
   "metadata": {},
   "source": [
    "<b>What should We exactly look for in the above box plots?</b>\n",
    "\n",
    "These plots give an idea about how the data of continuous predictor is distributed in the Y-axis for each of the category on the X-Axis.\n",
    "\n",
    "If the distribution looks similar for each category(Boxes are in the same line), that means the the continuous variable has NO effect on the target variable. Hence, the variables are not correlated to each other.\n",
    "\n",
    "On the other hand if the distribution is different for each category(the boxes are not in same line!), it indicates that these variables might be correlated with the target variable.\n",
    "\n",
    "In this case, all the continuous predictors looks correlated with the Target variable except \"RW_log\".'RW_log' seems to be not correlated to the target variable.\n",
    "\n",
    "Let's confirm our interpretation by looking at the results of ANOVA test."
   ]
  },
  {
   "cell_type": "markdown",
   "id": "060d42db",
   "metadata": {},
   "source": [
    "### <a id='10'> Statistical Feature Selection using ANOVA Test (Categorical Vs Continuous)</a>"
   ]
  },
  {
   "cell_type": "markdown",
   "id": "cad1f16c",
   "metadata": {},
   "source": [
    "Analysis of variance(ANOVA) is performed to check if there exists any relationship between the given continuous and categorical variable\n",
    "\n",
    "   - Assumption(H0): There is NO relation between the given variables (i.e. The average(mean) values of the numeric continuous predictor variable is same for all the groups in the categorical Target variable)\n",
    "   - ANOVA Test result: Probability of H0 being true\n",
    "\n",
    "So, we will select those features which have less than 5% probability of having no relation with the Target variable."
   ]
  },
  {
   "cell_type": "markdown",
   "id": "03f6d28b",
   "metadata": {},
   "source": [
    "The total variation in the dependent variable (the outcome we care about (i.e. lithology) can be decomposed into the variation between classes (lithologies) and the variation within classes (lithologies). When the within-class variation is small relative to the between-class variation, your classification scheme will be meaningful.\n",
    "\n",
    "<b> F-statistic </b>= <u>Variation among diferent lithologies</u>\n",
    "<br>  &nbsp; &nbsp; &nbsp; &nbsp; &nbsp; &nbsp; &nbsp; &nbsp; &nbsp; &nbsp; &nbsp; &nbsp; Variation within each lthology  \n",
    "                      "
   ]
  },
  {
   "cell_type": "code",
   "execution_count": 28,
   "id": "a8d350ea",
   "metadata": {},
   "outputs": [],
   "source": [
    "#### Defining a function to find the statistical relationship with all the continuous variables\n",
    "\n",
    "def AnovaTest(inputDataframe, TargetVariable, PredictorList):\n",
    "\n",
    "    # Creating an empty list of final selected predictors\n",
    "    SelectedPredictors=[]\n",
    "    \n",
    "    print('##### ANOVA Results ##### \\n')\n",
    "    for predictor in PredictorList:\n",
    "        CategoryGroupLists=inputDataframe.groupby(TargetVariable)[predictor].apply(list)\n",
    "        AnovaResults = f_oneway(*CategoryGroupLists)\n",
    "        \n",
    "        # If the ANOVA P-Value is <0.05, that means we reject H0\n",
    "        if (AnovaResults[1] < 0.01):\n",
    "            print(predictor, 'is correlated with', TargetVariable, '| P-Value:', AnovaResults)\n",
    "            SelectedPredictors.append(predictor)\n",
    "        else:\n",
    "            print(predictor, 'is NOT correlated with', TargetVariable, '| P-Value:', AnovaResults)\n",
    "    \n",
    "    return(SelectedPredictors)"
   ]
  },
  {
   "cell_type": "code",
   "execution_count": 29,
   "id": "85dd56c9",
   "metadata": {},
   "outputs": [
    {
     "name": "stdout",
     "output_type": "stream",
     "text": [
      "##### ANOVA Results ##### \n",
      "\n",
      "DEPTH is correlated with Lith_id_new | P-Value: F_onewayResult(statistic=2579.3289129072946, pvalue=0.0)\n",
      "W_Tar_calibrated is correlated with Lith_id_new | P-Value: F_onewayResult(statistic=54636.08113060157, pvalue=0.0)\n",
      "SW is correlated with Lith_id_new | P-Value: F_onewayResult(statistic=52815.22320192453, pvalue=0.0)\n",
      "VSH is correlated with Lith_id_new | P-Value: F_onewayResult(statistic=1136355.8444733869, pvalue=0.0)\n",
      "PHI is correlated with Lith_id_new | P-Value: F_onewayResult(statistic=678903.3342670002, pvalue=0.0)\n",
      "RW_log is correlated with Lith_id_new | P-Value: F_onewayResult(statistic=50.6063436810309, pvalue=1.150572383397399e-42)\n"
     ]
    },
    {
     "data": {
      "text/plain": [
       "['DEPTH', 'W_Tar_calibrated', 'SW', 'VSH', 'PHI', 'RW_log']"
      ]
     },
     "execution_count": 29,
     "metadata": {},
     "output_type": "execute_result"
    }
   ],
   "source": [
    "#### Calling the function to check which categorical variables are correlated with target\n",
    "\n",
    "AnovaTest(inputDataframe=well_log_df, \n",
    "              TargetVariable='Lith_id_new', \n",
    "              PredictorList=ContinuousCols)"
   ]
  },
  {
   "cell_type": "markdown",
   "id": "134be7b6",
   "metadata": {},
   "source": [
    "Looking at the ANOVA results we got to know every variable is correlated with 'Lith_id_new' including 'RW_log'. Though it is definetely the least correlated feature. F-statistic somehow gives an idea how much is the correlation between categorical variable and continuous target variable. Clearly, VSH is the highest correlated feature and that we know by domain knowledge as well."
   ]
  },
  {
   "cell_type": "markdown",
   "id": "828af6ea",
   "metadata": {},
   "source": [
    "## Selecting final predictors for Machine Learning"
   ]
  },
  {
   "cell_type": "markdown",
   "id": "813ea0c5",
   "metadata": {},
   "source": [
    "Based on the above analysis, we can select the final predictors for machine learning. I will select 'SitID' just for splitting into train-test later on and I will not be using it for model training."
   ]
  },
  {
   "cell_type": "code",
   "execution_count": 30,
   "id": "d93aa564",
   "metadata": {},
   "outputs": [
    {
     "data": {
      "text/html": [
       "<div>\n",
       "<style scoped>\n",
       "    .dataframe tbody tr th:only-of-type {\n",
       "        vertical-align: middle;\n",
       "    }\n",
       "\n",
       "    .dataframe tbody tr th {\n",
       "        vertical-align: top;\n",
       "    }\n",
       "\n",
       "    .dataframe thead th {\n",
       "        text-align: right;\n",
       "    }\n",
       "</style>\n",
       "<table border=\"1\" class=\"dataframe\">\n",
       "  <thead>\n",
       "    <tr style=\"text-align: right;\">\n",
       "      <th></th>\n",
       "      <th>DEPTH</th>\n",
       "      <th>W_Tar_calibrated</th>\n",
       "      <th>SW</th>\n",
       "      <th>VSH</th>\n",
       "      <th>PHI</th>\n",
       "      <th>RW_log</th>\n",
       "    </tr>\n",
       "  </thead>\n",
       "  <tbody>\n",
       "    <tr>\n",
       "      <th>0</th>\n",
       "      <td>437.00</td>\n",
       "      <td>2.0</td>\n",
       "      <td>1.0</td>\n",
       "      <td>1.000</td>\n",
       "      <td>0.000</td>\n",
       "      <td>0.022841</td>\n",
       "    </tr>\n",
       "    <tr>\n",
       "      <th>1</th>\n",
       "      <td>437.25</td>\n",
       "      <td>2.0</td>\n",
       "      <td>1.0</td>\n",
       "      <td>0.956</td>\n",
       "      <td>0.016</td>\n",
       "      <td>0.022841</td>\n",
       "    </tr>\n",
       "    <tr>\n",
       "      <th>2</th>\n",
       "      <td>437.50</td>\n",
       "      <td>2.0</td>\n",
       "      <td>1.0</td>\n",
       "      <td>0.776</td>\n",
       "      <td>0.083</td>\n",
       "      <td>0.022841</td>\n",
       "    </tr>\n",
       "    <tr>\n",
       "      <th>3</th>\n",
       "      <td>437.75</td>\n",
       "      <td>2.0</td>\n",
       "      <td>1.0</td>\n",
       "      <td>0.583</td>\n",
       "      <td>0.154</td>\n",
       "      <td>0.022841</td>\n",
       "    </tr>\n",
       "    <tr>\n",
       "      <th>4</th>\n",
       "      <td>438.00</td>\n",
       "      <td>2.0</td>\n",
       "      <td>1.0</td>\n",
       "      <td>0.383</td>\n",
       "      <td>0.228</td>\n",
       "      <td>0.022841</td>\n",
       "    </tr>\n",
       "  </tbody>\n",
       "</table>\n",
       "</div>"
      ],
      "text/plain": [
       "    DEPTH  W_Tar_calibrated   SW    VSH    PHI    RW_log\n",
       "0  437.00               2.0  1.0  1.000  0.000  0.022841\n",
       "1  437.25               2.0  1.0  0.956  0.016  0.022841\n",
       "2  437.50               2.0  1.0  0.776  0.083  0.022841\n",
       "3  437.75               2.0  1.0  0.583  0.154  0.022841\n",
       "4  438.00               2.0  1.0  0.383  0.228  0.022841"
      ]
     },
     "execution_count": 30,
     "metadata": {},
     "output_type": "execute_result"
    }
   ],
   "source": [
    "Selected_Columns=['DEPTH','W_Tar_calibrated','SW','VSH', 'PHI', 'RW_log']\n",
    "\n",
    "# Selecting final columns\n",
    "FinalData=well_log_df[Selected_Columns]\n",
    "FinalData.head()"
   ]
  },
  {
   "cell_type": "markdown",
   "id": "3b61cb24",
   "metadata": {},
   "source": [
    "## <a id='11'>Data Pre-processing for Machine Learning</a>\n",
    "\n",
    "The following List of steps is generally performed on predictor variables before data can be used for machine learning.\n",
    "\n",
    "    1. Converting each Ordinal Categorical columns to numeric\n",
    "    2. Converting Binary nominal Categorical columns to numeric using 1/0 mapping\n",
    "    3. Converting all other nominal categorical columns to numeric using pd.get_dummies()\n",
    "    4. Data Transformation (Optional): Standardization/Normalization/log/sqrt. Important if you are using distance based algorithms like KNN, or Neural Networks\n",
    "\n",
    "In this data, we have no Ordinal/nominal categorical variable which is in string format.\n"
   ]
  },
  {
   "cell_type": "markdown",
   "id": "949ed9d8",
   "metadata": {},
   "source": [
    "## <a id='12'>Splitting data into Training and Testing</a>"
   ]
  },
  {
   "cell_type": "markdown",
   "id": "72b130e7",
   "metadata": {},
   "source": [
    "We will not use the full data for creating the model. Some data is kept aside for checking how good the model is. This is known as Testing Data and the remaining data is called Training data on which the model is built. Generally, 70-80% of data is randomly selected as Training data and the rest 30-20% is used as Tesing data.\n",
    "\n",
    "But in this case we want to have our testing data come from some particular wells as we would later like to test the model on complete well data for some wells. So we will randomly select 3-4 wells for testing. "
   ]
  },
  {
   "cell_type": "code",
   "execution_count": 31,
   "id": "bba8b674",
   "metadata": {},
   "outputs": [
    {
     "name": "stdout",
     "output_type": "stream",
     "text": [
      "No. of wells are 2175\n"
     ]
    }
   ],
   "source": [
    "#### Calculating No. of wells\n",
    "print('No. of wells are',well_log_df['SitID'].nunique())"
   ]
  },
  {
   "cell_type": "code",
   "execution_count": 32,
   "id": "407a27d5",
   "metadata": {},
   "outputs": [
    {
     "data": {
      "text/plain": [
       "154453    669\n",
       "114305    613\n",
       "108617    609\n",
       "110325    581\n",
       "113795    573\n",
       "         ... \n",
       "117299     59\n",
       "117292     49\n",
       "118232     40\n",
       "113879     38\n",
       "118236     25\n",
       "Name: SitID, Length: 2175, dtype: int64"
      ]
     },
     "execution_count": 32,
     "metadata": {},
     "output_type": "execute_result"
    }
   ],
   "source": [
    "#### Data rows well-wise\n",
    "well_log_df['SitID'].value_counts()"
   ]
  },
  {
   "cell_type": "code",
   "execution_count": 33,
   "id": "f3c42d57",
   "metadata": {},
   "outputs": [],
   "source": [
    "#### Test wells SitID. You can choose any well id as you wish.\n",
    "test_wells=[110325,117299,114305,113795] "
   ]
  },
  {
   "cell_type": "code",
   "execution_count": 34,
   "id": "83498fb2",
   "metadata": {},
   "outputs": [],
   "source": [
    "#### Separate Target Variable and Predictor Variables\n",
    "TargetVariable='Lith_id_new'\n",
    "Predictors=['DEPTH', 'W_Tar_calibrated', 'SW', 'VSH', 'PHI', 'RW_log']\n",
    "\n",
    "#### Split the data into training and testing set\n",
    "X_train=well_log_df[~well_log_df.SitID.isin(test_wells)][Predictors]\n",
    "y_train=well_log_df[~well_log_df.SitID.isin(test_wells)][TargetVariable]\n",
    "X_test=well_log_df[well_log_df.SitID.isin(test_wells)][Predictors]\n",
    "y_test=well_log_df[well_log_df.SitID.isin(test_wells)][TargetVariable]\n",
    "X_test_wellnames=well_log_df[well_log_df.SitID.isin(test_wells)]['SitID']"
   ]
  },
  {
   "cell_type": "markdown",
   "id": "5ebbbd19",
   "metadata": {},
   "source": [
    "## Standardization/Normalization of data"
   ]
  },
  {
   "cell_type": "markdown",
   "id": "7cd2a03d",
   "metadata": {},
   "source": [
    "This step is optional and you can choose not to run this step if you want to compare the resultant accuracy of this transformation with the accuracy of raw data.\n",
    "\n",
    "However, if you are using KNN, SVM or Neural Networks, then this step becomes necessary.\n",
    "\n",
    "I am skipping this step as I am not using any of the above mentioned algorithms"
   ]
  },
  {
   "cell_type": "code",
   "execution_count": 35,
   "id": "19cff186",
   "metadata": {},
   "outputs": [],
   "source": [
    "#### Sandardization of data \n",
    "# from sklearn.preprocessing import StandardScaler, MinMaxScaler\n",
    "## Choose between standardization and MinMAx normalization\n",
    "\n",
    "#PredictorScaler=StandardScaler()\n",
    "#PredictorScaler=MinMaxScaler()\n",
    "\n",
    "## Storing the fit object for later reference\n",
    "#PredictorScalerFit=PredictorScaler.fit(X_train)\n",
    "\n",
    "## Generating the standardized values of X\n",
    "#X_train=PredictorScalerFit.transform(X_train)\n",
    "#X_test=PredictorScalerFit.transform(X_test)"
   ]
  },
  {
   "cell_type": "code",
   "execution_count": 36,
   "id": "8914d0dc",
   "metadata": {},
   "outputs": [
    {
     "name": "stdout",
     "output_type": "stream",
     "text": [
      "(578020, 6)\n",
      "(578020,)\n",
      "(1826, 6)\n",
      "(1826,)\n"
     ]
    }
   ],
   "source": [
    "# Sanity check for the sampled data\n",
    "print(X_train.shape)\n",
    "print(y_train.shape)\n",
    "print(X_test.shape)\n",
    "print(y_test.shape)"
   ]
  },
  {
   "cell_type": "markdown",
   "id": "56f1658a",
   "metadata": {},
   "source": [
    "## <a id='13'> Logistic Regression </a>"
   ]
  },
  {
   "cell_type": "code",
   "execution_count": 37,
   "id": "0e53e1f1",
   "metadata": {},
   "outputs": [
    {
     "name": "stdout",
     "output_type": "stream",
     "text": [
      "LogisticRegression(multi_class='multinomial', random_state=22)\n",
      "Accuracy score for training data: 0.7205114009895851\n"
     ]
    },
    {
     "data": {
      "image/png": "[encoded data removed]",
      "text/plain": [
       "<Figure size 432x288 with 1 Axes>"
      ]
     },
     "metadata": {
      "needs_background": "light"
     },
     "output_type": "display_data"
    },
    {
     "name": "stdout",
     "output_type": "stream",
     "text": [
      "\n",
      "##### Model Validation and Accuracy Calculations ##########\n",
      "\n",
      "Accuracy score for testing data: 0.6686746987951807\n",
      "\n",
      "Accuracy score for each class in testing data:\n",
      "Accuracy score for lithology label  4  is  0.5563725490196079\n",
      "Accuracy score for lithology label  5  is  0.9893992932862191\n",
      "Accuracy score for lithology label  2  is  0.2690909090909091\n",
      "Accuracy score for lithology label  1  is  0.6440071556350626\n",
      "Accuracy score for lithology label  3  is  0.0\n"
     ]
    }
   ],
   "source": [
    "#### Linear Classification Algorithm : Logistic Regression\n",
    "\n",
    "from sklearn.linear_model import LogisticRegression\n",
    "\n",
    "# Create a Random Forest Classifier instance with suitable parameters\n",
    "ClfModel = LogisticRegression(multi_class='multinomial',max_iter=100,random_state=22)\n",
    "\n",
    "# Printing all the parameters of Random Forest\n",
    "print(ClfModel)\n",
    "\n",
    "# Creating the model on Training Data\n",
    "LR=ClfModel.fit(X_train,y_train)\n",
    "prediction=LR.predict(X_test)\n",
    "\n",
    "from sklearn import metrics\n",
    "# Measuring Goodness of fit in Training data\n",
    "print('Accuracy score for training data:',metrics.accuracy_score(y_train, LR.predict(X_train)))\n",
    "\n",
    "# Plotting the feature importance for Top 10 most important columns for each class label\n",
    "feature_importances = pd.Series(abs(LR.coef_).mean(axis=0), index=Predictors)\n",
    "feature_importances.nlargest(10).plot(kind='barh')\n",
    "plt.title('Feature Importance')\n",
    "plt.show()\n",
    "###########################################################################\n",
    "print('\\n##### Model Validation and Accuracy Calculations ##########')\n",
    "\n",
    "# Putting predicted values along with the predictors and actual target values\n",
    "TestDataResults=pd.DataFrame(data=X_test, columns=Predictors)\n",
    "TestDataResults[TargetVariable]=y_test\n",
    "TestDataResults[('Predicted_'+TargetVariable)]=prediction\n",
    "TestDataResults['SitID']=X_test_wellnames\n",
    "\n",
    "# Calculating accuracy for Test Data\n",
    "print('\\nAccuracy score for testing data:',metrics.accuracy_score(TestDataResults[TargetVariable],\n",
    "                                                                 TestDataResults['Predicted_'+TargetVariable]))\n",
    "\n",
    "# Calculating accuray for each class in Test Data\n",
    "print('\\nAccuracy score for each class in testing data:')\n",
    "\n",
    "for lithology_class in TestDataResults[TargetVariable].unique():\n",
    "    print('Accuracy score for lithology label ',lithology_class,' is ',\n",
    "                  metrics.accuracy_score(TestDataResults[TestDataResults[TargetVariable]==lithology_class][TargetVariable],\n",
    "                                TestDataResults[TestDataResults[TargetVariable]==lithology_class]['Predicted_'+TargetVariable]))"
   ]
  },
  {
   "cell_type": "code",
   "execution_count": 38,
   "id": "1a71b6e9",
   "metadata": {},
   "outputs": [],
   "source": [
    "#### Saving Test data results\n",
    "TestDataResults.to_csv(\"LR_TestDataResults.csv\")\n",
    "lr_testresults=TestDataResults.copy()"
   ]
  },
  {
   "cell_type": "markdown",
   "id": "016cbba2",
   "metadata": {},
   "source": [
    "A simple linear algorithm gives 66.8% accuarcy, which is neither bad nor good. We can say it's just okay. But it gives an idea that the dependence of target variables is not simply a linear one. Also, low accuracy is due to less iterations and no class weights for imbalanced data. If we make 'max_iter' parameter in the above code to 300, it will give an accuracy of 85% on testing data. You can try it by your own later on as it may take time to train model with that much iterations. Defining class weights may lower an overall-accuracy but will definitely increase the accuracy for the imbalanced class. \n",
    "\n",
    "Anyways, 85% accuracy is good for the classification of facies but the amount of data that we have, we sure, do have high expectations. Let us try another famous model- Random Forest. "
   ]
  },
  {
   "cell_type": "markdown",
   "id": "c2267711",
   "metadata": {},
   "source": [
    "## Random Forest"
   ]
  },
  {
   "cell_type": "code",
   "execution_count": 39,
   "id": "ad1960d5",
   "metadata": {},
   "outputs": [
    {
     "name": "stdout",
     "output_type": "stream",
     "text": [
      "RandomForestClassifier(criterion='entropy', max_depth=3, random_state=22)\n",
      "Accuracy score for training data: 0.9622366008096606\n",
      "\n",
      "##### Model Validation and Accuracy Calculations ##########\n",
      "\n",
      "Accuracy score for testing data: 0.9665936473165389\n",
      "\n",
      "Accuracy score for each class in testing data:\n",
      "Accuracy score for lithology label  4  is  0.9950980392156863\n",
      "Accuracy score for lithology label  5  is  0.9876325088339223\n",
      "Accuracy score for lithology label  2  is  1.0\n",
      "Accuracy score for lithology label  1  is  0.9391771019677997\n",
      "Accuracy score for lithology label  3  is  0.0\n"
     ]
    },
    {
     "data": {
      "image/png": "[encoded data removed]",
      "text/plain": [
       "<Figure size 432x288 with 1 Axes>"
      ]
     },
     "metadata": {
      "needs_background": "light"
     },
     "output_type": "display_data"
    }
   ],
   "source": [
    "#### Random Forest (Bagging of multiple Decision Trees)\n",
    "\n",
    "from sklearn.ensemble import RandomForestClassifier\n",
    "\n",
    "# Create a Random Forest Classifier instance with suitable parameters\n",
    "ClfModel = RandomForestClassifier(max_depth=3, n_estimators=100,criterion='entropy',random_state=22)\n",
    "# Tip: Good range for max_depth: 2-10 and n_estimators: 100-1000\n",
    "\n",
    "# Printing all the parameters of Random Forest\n",
    "print(ClfModel)\n",
    "\n",
    "# Creating the model on Training Data\n",
    "RF=ClfModel.fit(X_train,y_train)\n",
    "prediction=RF.predict(X_test)\n",
    "\n",
    "from sklearn import metrics\n",
    "# Measuring Goodness of fit in Training data\n",
    "print('Accuracy score for training data:',metrics.accuracy_score(y_train, RF.predict(X_train)))\n",
    "\n",
    "# Plotting the feature importance for Top 10 most important columns\n",
    "feature_importances = pd.Series(RF.feature_importances_, index=Predictors)\n",
    "feature_importances.nlargest(10).plot(kind='barh')\n",
    "plt.title('Feature Importance')\n",
    "\n",
    "###########################################################################\n",
    "print('\\n##### Model Validation and Accuracy Calculations ##########')\n",
    "\n",
    "# Putting predicted values along with the predictors and actual target values\n",
    "TestDataResults=pd.DataFrame(data=X_test, columns=Predictors)\n",
    "TestDataResults[TargetVariable]=y_test\n",
    "TestDataResults[('Predicted_'+TargetVariable)]=prediction\n",
    "TestDataResults['SitID']=X_test_wellnames\n",
    "\n",
    "# Calculating accuracy for Test Data\n",
    "print('\\nAccuracy score for testing data:',metrics.accuracy_score(TestDataResults[TargetVariable],\n",
    "                                                                 TestDataResults['Predicted_'+TargetVariable]))\n",
    "\n",
    "# Calculating accuray for each class in Test Data\n",
    "print('\\nAccuracy score for each class in testing data:')\n",
    "\n",
    "for lithology_class in TestDataResults[TargetVariable].unique():\n",
    "    print('Accuracy score for lithology label ',lithology_class,' is ',\n",
    "                  metrics.accuracy_score(TestDataResults[TestDataResults[TargetVariable]==lithology_class][TargetVariable],\n",
    "                                TestDataResults[TestDataResults[TargetVariable]==lithology_class]['Predicted_'+TargetVariable]))"
   ]
  },
  {
   "cell_type": "code",
   "execution_count": 40,
   "id": "197fd09b",
   "metadata": {},
   "outputs": [
    {
     "data": {
      "text/plain": [
       "5    562\n",
       "1    531\n",
       "4    446\n",
       "2    287\n",
       "Name: Predicted_Lith_id_new, dtype: int64"
      ]
     },
     "execution_count": 40,
     "metadata": {},
     "output_type": "execute_result"
    }
   ],
   "source": [
    "#### Number of Values predicted for each lithology\n",
    "TestDataResults['Predicted_Lith_id_new'].value_counts()"
   ]
  },
  {
   "cell_type": "markdown",
   "id": "a1048445",
   "metadata": {},
   "source": [
    "The accuracy score for lithology class 3 comes out to be 0 if no class weights is given as input to the ML model. This is because the model could not learn when to predict the class label as 3 due to insufficient number of examples in the training dataset as compared to other class labels. So when we provide a higher weight to the class which is less represented in the training data, we are basically putting a high penalty on the model if it wrongly predicts that class. It is similar to punishing a child for a mistake and then the child will think ten times to do the same mistake again. Let's, re-run the above model with a higher class weight for class 3. "
   ]
  },
  {
   "cell_type": "code",
   "execution_count": 41,
   "id": "0ce3e8f9",
   "metadata": {},
   "outputs": [
    {
     "name": "stdout",
     "output_type": "stream",
     "text": [
      "RandomForestClassifier(class_weight={1: 1, 2: 1, 3: 4, 4: 1, 5: 1},\n",
      "                       criterion='entropy', max_depth=3, random_state=22)\n",
      "Accuracy score for training data: 0.9672554582886406\n",
      "\n",
      "##### Model Validation and Accuracy Calculations ##########\n",
      "\n",
      "Accuracy score for testing data: 0.9649507119386638\n",
      "\n",
      "Accuracy score for each class in testing data:\n",
      "Accuracy score for lithology label  4  is  0.9632352941176471\n",
      "Accuracy score for lithology label  5  is  0.9876325088339223\n",
      "Accuracy score for lithology label  2  is  1.0\n",
      "Accuracy score for lithology label  1  is  0.9373881932021467\n",
      "Accuracy score for lithology label  3  is  0.6111111111111112\n"
     ]
    },
    {
     "data": {
      "image/png": "[encoded data removed]",
      "text/plain": [
       "<Figure size 432x288 with 1 Axes>"
      ]
     },
     "metadata": {
      "needs_background": "light"
     },
     "output_type": "display_data"
    }
   ],
   "source": [
    "#### Random Forest (Bagging of multiple Decision Trees)\n",
    "\n",
    "# Weights for different lithology class labels\n",
    "lithology_class_weights={ 1 : 1, \n",
    "                          2 : 1, \n",
    "                          3 : 4,\n",
    "                          4 : 1,\n",
    "                          5 : 1}\n",
    "\n",
    "from sklearn.ensemble import RandomForestClassifier\n",
    "\n",
    "# Create a Random Forest Classifier instance with suitable parameters\n",
    "ClfModel = RandomForestClassifier(max_depth=3, n_estimators=100,criterion='entropy',random_state=22,class_weight=lithology_class_weights)\n",
    "# Tip: Good range for max_depth: 2-10 and n_estimators: 100-1000\n",
    "\n",
    "# Printing all the parameters of Random Forest\n",
    "print(ClfModel)\n",
    "\n",
    "# Creating the model on Training Data\n",
    "RF=ClfModel.fit(X_train,y_train)\n",
    "prediction=RF.predict(X_test)\n",
    "\n",
    "from sklearn import metrics\n",
    "# Measuring Goodness of fit in Training data\n",
    "print('Accuracy score for training data:',metrics.accuracy_score(y_train, RF.predict(X_train)))\n",
    "\n",
    "# Plotting the feature importance for Top 10 most important columns\n",
    "feature_importances = pd.Series(RF.feature_importances_, index=Predictors)\n",
    "feature_importances.nlargest(10).plot(kind='barh')\n",
    "plt.title('Feature Importance')\n",
    "\n",
    "###########################################################################\n",
    "print('\\n##### Model Validation and Accuracy Calculations ##########')\n",
    "\n",
    "# Putting predicted values along with the predictors and actual target values\n",
    "TestDataResults=pd.DataFrame(data=X_test, columns=Predictors)\n",
    "TestDataResults[TargetVariable]=y_test\n",
    "TestDataResults[('Predicted_'+TargetVariable)]=prediction\n",
    "TestDataResults['SitID']=X_test_wellnames\n",
    "\n",
    "# Calculating accuracy for Test Data\n",
    "print('\\nAccuracy score for testing data:',metrics.accuracy_score(TestDataResults[TargetVariable],\n",
    "                                                                 TestDataResults['Predicted_'+TargetVariable]))\n",
    "\n",
    "# Calculating accuray for each class in Test Data\n",
    "print('\\nAccuracy score for each class in testing data:')\n",
    "\n",
    "for lithology_class in TestDataResults[TargetVariable].unique():\n",
    "    print('Accuracy score for lithology label ',lithology_class,' is ',\n",
    "                  metrics.accuracy_score(TestDataResults[TestDataResults[TargetVariable]==lithology_class][TargetVariable],\n",
    "                                TestDataResults[TestDataResults[TargetVariable]==lithology_class]['Predicted_'+TargetVariable]))"
   ]
  },
  {
   "cell_type": "code",
   "execution_count": 42,
   "id": "00c812ac",
   "metadata": {},
   "outputs": [
    {
     "data": {
      "text/plain": [
       "5    562\n",
       "1    525\n",
       "4    424\n",
       "2    287\n",
       "3     28\n",
       "Name: Predicted_Lith_id_new, dtype: int64"
      ]
     },
     "execution_count": 42,
     "metadata": {},
     "output_type": "execute_result"
    }
   ],
   "source": [
    "#### Number of Values predicted for each lithology\n",
    "TestDataResults['Predicted_Lith_id_new'].value_counts()"
   ]
  },
  {
   "cell_type": "markdown",
   "id": "a23baee2",
   "metadata": {},
   "source": [
    "Save the test results so that you may explore and visualise it in excel, if you want, later on."
   ]
  },
  {
   "cell_type": "code",
   "execution_count": 43,
   "id": "99941db6",
   "metadata": {},
   "outputs": [],
   "source": [
    "#### Saving Test data results\n",
    "TestDataResults.to_csv(\"RF_TestDataResults.csv\")\n",
    "rf_testresults=TestDataResults.copy()"
   ]
  },
  {
   "cell_type": "markdown",
   "id": "bb027ed0",
   "metadata": {},
   "source": [
    "#### Plotting the Predicted Result"
   ]
  },
  {
   "cell_type": "markdown",
   "id": "cd1ca000",
   "metadata": {},
   "source": [
    "96+% Accuracy in Test data, well .... good results I must say. Let's see what it looks like in actual."
   ]
  },
  {
   "cell_type": "code",
   "execution_count": 44,
   "id": "62d9f93e",
   "metadata": {},
   "outputs": [],
   "source": [
    "## Colors chosen for different facies from 1 to 5\n",
    "facies_colors = ['#F4D03F','#DC7633','#1B4F72','#6E2C00','#AED6F1']\n",
    "\n",
    "import matplotlib.colors as colors\n",
    "from mpl_toolkits.axes_grid1 import make_axes_locatable\n",
    "\n",
    "## Function to compare actual and predicted facies\n",
    "def compare_facies_plot(logs, compadre, facies_colors):\n",
    "    ## make sure logs are sorted by depth\n",
    "    logs = logs.sort_values(by='DEPTH')\n",
    "    \n",
    "    ## mapping colors to colormap \n",
    "    cmap_facies = colors.ListedColormap(\n",
    "            facies_colors[0:len(facies_colors)], 'indexed')\n",
    "    \n",
    "    ## Finding min and max depth for plotting logs\n",
    "    ztop=logs.DEPTH.min(); zbot=logs.DEPTH.max()\n",
    "    \n",
    "    ## To plot horizontal bars, repeating each value 100 times \n",
    "    cluster1 = np.repeat(np.expand_dims(logs['Lith_id_new'].values,1), 100, 1)\n",
    "    cluster2 = np.repeat(np.expand_dims(logs[compadre].values,1), 100, 1)\n",
    "    \n",
    "    ## Making subplots and plotting data for each log in each subplot\n",
    "    f, ax = plt.subplots(nrows=1, ncols=6, figsize=(12, 12))\n",
    "    ax[0].plot(logs.SW, logs.DEPTH, '-b')\n",
    "    ax[1].plot(logs['RW_log'], logs.DEPTH, '-')\n",
    "    ax[2].plot(logs.PHI, logs.DEPTH, '-', color='r')\n",
    "    ax[3].plot(logs.VSH, logs.DEPTH, '-', color='black')\n",
    "    im1 = ax[4].imshow(cluster1, interpolation='none', aspect='auto',\n",
    "                    cmap=cmap_facies,vmin=1,vmax=5)\n",
    "    im2 = ax[5].imshow(cluster2, interpolation='none', aspect='auto',\n",
    "                    cmap=cmap_facies,vmin=1,vmax=5)\n",
    "    \n",
    "    ## Making axes for cololorbar in the last axes\n",
    "    divider = make_axes_locatable(ax[5])\n",
    "    cax = divider.append_axes(\"right\", size=\"15%\", pad=0.05)\n",
    "    cbar=plt.colorbar(im2, cax=cax)\n",
    "    cbar.set_label((30*' ').join([' Sand ', 'ShalySand', 'Other', \n",
    "                                'Shale', ' Coal ']))\n",
    "    cbar.set_ticks(range(0,1)); cbar.set_ticklabels('')\n",
    "    \n",
    "    ## Inverting y-axis for all logs\n",
    "    for i in range(len(ax)-2):\n",
    "        ax[i].set_ylim(ztop,zbot)\n",
    "        ax[i].invert_yaxis()\n",
    "        ax[i].grid()\n",
    "        ax[i].locator_params(axis='x', nbins=3)\n",
    "    \n",
    "    ## Setting xlabel for all logs and the min-max ticks on x-axis for each log\n",
    "    ax[0].set_xlabel(\"SW\")\n",
    "    ax[0].set_xlim(logs.SW.min()-0.2,logs.SW.max()+0.2)\n",
    "    ax[1].set_xlabel(\"RW_log\")\n",
    "    ax[1].set_xlim(logs.RW_log.min()-0.05,logs.RW_log.max()+0.05)\n",
    "    ax[2].set_xlabel(\"PHI\")\n",
    "    ax[2].set_xlim(logs.PHI.min()-0.1,logs.PHI.max()+0.1)\n",
    "    ax[3].set_xlabel(\"VSH\")\n",
    "    ax[3].set_xlim(logs.VSH.min()-0.1,logs.VSH.max()+0.1)\n",
    "    ax[4].set_xlabel('Facies')\n",
    "    ax[5].set_xlabel('Predicted Facies')\n",
    "    \n",
    "    ## Setting yticks for all logs\n",
    "    ax[1].set_yticklabels([]); ax[2].set_yticklabels([]); ax[3].set_yticklabels([])\n",
    "    ax[4].set_yticklabels([]); ax[5].set_yticklabels([])\n",
    "    ax[4].set_xticklabels([])\n",
    "    ax[5].set_xticklabels([])\n",
    "    \n",
    "    ## Setting title of the plots\n",
    "    f.suptitle('Well: %s'%logs.iloc[0]['SitID'], fontsize=14, y=0.94)"
   ]
  },
  {
   "cell_type": "code",
   "execution_count": 45,
   "id": "6005f194",
   "metadata": {},
   "outputs": [
    {
     "data": {
      "image/png": "[encoded data removed]",
      "text/plain": [
       "<Figure size 864x864 with 7 Axes>"
      ]
     },
     "metadata": {
      "needs_background": "light"
     },
     "output_type": "display_data"
    }
   ],
   "source": [
    "#### Visualising the predicted facies log\n",
    "compare_facies_plot(TestDataResults[rf_testresults['SitID']==test_wells[0]],'Predicted_'+TargetVariable,facies_colors)"
   ]
  },
  {
   "cell_type": "markdown",
   "id": "98c6ca5f",
   "metadata": {},
   "source": [
    "Fantastic, the model predicted lithology seems perfect. Now let's try another model just for the sake of practice and who knows if by chance, we get a better accuracy than this. Generally, boosting algorithm works much better than bagging algorithms."
   ]
  },
  {
   "cell_type": "markdown",
   "id": "ffe4dfff",
   "metadata": {},
   "source": [
    "## XG-Boost"
   ]
  },
  {
   "cell_type": "code",
   "execution_count": 46,
   "id": "c932d08e",
   "metadata": {},
   "outputs": [
    {
     "name": "stdout",
     "output_type": "stream",
     "text": [
      "XGBClassifier(base_score=None, booster=None, colsample_bylevel=None,\n",
      "              colsample_bynode=None, colsample_bytree=None, gamma=None,\n",
      "              gpu_id=None, importance_type='gain', interaction_constraints=None,\n",
      "              learning_rate=None, max_delta_step=None, max_depth=None,\n",
      "              min_child_weight=None, missing=nan, monotone_constraints=None,\n",
      "              n_estimators=100, n_jobs=None, num_parallel_tree=None,\n",
      "              random_state=22, reg_alpha=None, reg_lambda=None,\n",
      "              scale_pos_weight=None, subsample=None, tree_method=None,\n",
      "              validate_parameters=None, verbosity=None)\n",
      "[16:52:23] WARNING: C:/Users/Administrator/workspace/xgboost-win64_release_1.4.0/src/learner.cc:1095: Starting in XGBoost 1.3.0, the default evaluation metric used with the objective 'multi:softprob' was changed from 'merror' to 'mlogloss'. Explicitly set eval_metric if you'd like to restore the old behavior.\n",
      "Accuracy score for training data: 0.9850991315179406\n",
      "\n",
      "##### Model Validation and Accuracy Calculations ##########\n",
      "\n",
      "Accuracy score for testing data: 0.9846659364731654\n",
      "\n",
      "Accuracy score for each class in testing data:\n",
      "Accuracy score for lithology label  4  is  0.9877450980392157\n",
      "Accuracy score for lithology label  5  is  0.9893992932862191\n",
      "Accuracy score for lithology label  2  is  1.0\n",
      "Accuracy score for lithology label  1  is  0.9749552772808586\n",
      "Accuracy score for lithology label  3  is  0.8333333333333334\n"
     ]
    },
    {
     "data": {
      "image/png": "[encoded data removed]",
      "text/plain": [
       "<Figure size 432x288 with 1 Axes>"
      ]
     },
     "metadata": {
      "needs_background": "light"
     },
     "output_type": "display_data"
    }
   ],
   "source": [
    "import xgboost as xgb\n",
    "\n",
    "# create XGBoost instance with default hyper-parameters\n",
    "ClfModel = xgb.XGBClassifier(random_state=22)\n",
    "\n",
    "# Printing all the parameters of Random Forest\n",
    "print(ClfModel)\n",
    "\n",
    "# Creating the model on Training Data\n",
    "XGB=ClfModel.fit(X_train,y_train)\n",
    "prediction=XGB.predict(X_test)\n",
    "\n",
    "from sklearn import metrics\n",
    "# Measuring Goodness of fit in Training data\n",
    "print('Accuracy score for training data:',metrics.accuracy_score(y_train, XGB.predict(X_train)))\n",
    "\n",
    "# Plotting the feature importance for Top 10 most important columns\n",
    "feature_importances = pd.Series(XGB.feature_importances_, index=Predictors)\n",
    "feature_importances.nlargest(10).plot(kind='barh')\n",
    "plt.title('Feature Importance')\n",
    "\n",
    "###########################################################################\n",
    "print('\\n##### Model Validation and Accuracy Calculations ##########')\n",
    "\n",
    "# Putting predicted values along with the predictors and actual target values\n",
    "TestDataResults=pd.DataFrame(data=X_test, columns=Predictors)\n",
    "TestDataResults[TargetVariable]=y_test\n",
    "TestDataResults[('Predicted_'+TargetVariable)]=prediction\n",
    "TestDataResults['SitID']=X_test_wellnames\n",
    "\n",
    "# Calculating accuracy for Test Data\n",
    "print('\\nAccuracy score for testing data:',metrics.accuracy_score(TestDataResults[TargetVariable],\n",
    "                                                                 TestDataResults['Predicted_'+TargetVariable]))\n",
    "\n",
    "# Calculating accuray for each class in Test Data\n",
    "print('\\nAccuracy score for each class in testing data:')\n",
    "\n",
    "for lithology_class in TestDataResults[TargetVariable].unique():\n",
    "    print('Accuracy score for lithology label ',lithology_class,' is ',\n",
    "                  metrics.accuracy_score(TestDataResults[TestDataResults[TargetVariable]==lithology_class][TargetVariable],\n",
    "                                TestDataResults[TestDataResults[TargetVariable]==lithology_class]['Predicted_'+TargetVariable]))"
   ]
  },
  {
   "cell_type": "markdown",
   "id": "e3cec30b",
   "metadata": {},
   "source": [
    "Save the results if you want to further do some analysis on the predictions "
   ]
  },
  {
   "cell_type": "code",
   "execution_count": 47,
   "id": "4a1ab2c2",
   "metadata": {},
   "outputs": [],
   "source": [
    "#### Saving Test data results\n",
    "TestDataResults.to_csv(\"XGB_TestDataResults.csv\")\n",
    "xgb_testresults=TestDataResults.copy()"
   ]
  },
  {
   "cell_type": "markdown",
   "id": "f0bcce0f",
   "metadata": {},
   "source": [
    "~98.5% Accuracy .... Definietly beyond expectations and that too without class weights.  "
   ]
  },
  {
   "cell_type": "markdown",
   "id": "beb0dbad",
   "metadata": {},
   "source": [
    "#### Plotting the Predicted Result"
   ]
  },
  {
   "cell_type": "code",
   "execution_count": 48,
   "id": "97bb451b",
   "metadata": {},
   "outputs": [
    {
     "data": {
      "image/png": "[encoded data removed]",
      "text/plain": [
       "<Figure size 864x864 with 7 Axes>"
      ]
     },
     "metadata": {
      "needs_background": "light"
     },
     "output_type": "display_data"
    }
   ],
   "source": [
    "#### Visualising the predicted facies log\n",
    "compare_facies_plot(TestDataResults[xgb_testresults['SitID']==test_wells[2]],'Predicted_'+TargetVariable,facies_colors)"
   ]
  },
  {
   "cell_type": "markdown",
   "id": "012e2728",
   "metadata": {},
   "source": [
    "## <a id='14'> Selection of Best ML Algorithm </a>"
   ]
  },
  {
   "cell_type": "markdown",
   "id": "10340bab",
   "metadata": {},
   "source": [
    "After trying different ML algorithms, now we can choose the algorithm that gives the best accuracy in classifying facies. That's why we will finally go ahead with XG-Boost as the final model.\n",
    "\n",
    "In order to deply a model, we have to do three steps:\n",
    "1.  Re-train the model using 100% data available \n",
    "2.  Save the model as a serialized file, so that it can be stored and used anywhere\n",
    "3.  Create a python function which gets integrated with front-end (Java Website/ C# based Web-App) to take all the inputs and returns the prediction.\n",
    "\n",
    "<b> Choosing most important variables only</b>\n",
    "    \n",
    "Note: Its recommended to keep lesser number of predictors for the model while deploying it in production. The lesser predictors we keep, the more stable will be the model due to less dependency. This is important specially when the data is high dimensional(too many predictor columns).\n",
    "\n",
    "In this case, the most important predictor variables are 'VSH', 'PHI',and 'W_Tar_calibrated' for almost all algorithms.\n",
    "\n",
    "Therefore, we will choose these as final set of predictor variables."
   ]
  },
  {
   "cell_type": "markdown",
   "id": "c51f6fe1",
   "metadata": {},
   "source": [
    "## <a id='15'>Deployment of the ML Model</a>"
   ]
  },
  {
   "cell_type": "code",
   "execution_count": 49,
   "id": "a2387ef6",
   "metadata": {},
   "outputs": [],
   "source": [
    "TargetVariable='Lith_id_new'\n",
    "Predictors=['W_Tar_calibrated', 'SW', 'VSH', 'PHI']\n",
    "\n",
    "X=well_log_df[Predictors]\n",
    "y=well_log_df[TargetVariable]"
   ]
  },
  {
   "cell_type": "markdown",
   "id": "b91317a9",
   "metadata": {},
   "source": [
    "#### Step 1. Retrain the model with 100% data"
   ]
  },
  {
   "cell_type": "code",
   "execution_count": 50,
   "id": "0d272a5c",
   "metadata": {},
   "outputs": [
    {
     "name": "stdout",
     "output_type": "stream",
     "text": [
      "[16:56:35] WARNING: C:/Users/Administrator/workspace/xgboost-win64_release_1.4.0/src/learner.cc:1095: Starting in XGBoost 1.3.0, the default evaluation metric used with the objective 'multi:softprob' was changed from 'merror' to 'mlogloss'. Explicitly set eval_metric if you'd like to restore the old behavior.\n"
     ]
    }
   ],
   "source": [
    "# Training the mClfModell on whole dataset\n",
    "Final_XGB_Model=ClfModel.fit(X,y)"
   ]
  },
  {
   "cell_type": "markdown",
   "id": "19b9acbc",
   "metadata": {},
   "source": [
    "#### Step 2. Save the model using Pickle Library"
   ]
  },
  {
   "cell_type": "code",
   "execution_count": 51,
   "id": "9ed0e126",
   "metadata": {},
   "outputs": [],
   "source": [
    "# Saving the Python objects as serialized files can be done using pickle library\n",
    "import pickle\n",
    "\n",
    "# Here let us save the Final model as .pkl file\n",
    "with open('Final_XGB_Model.pkl', 'wb') as fileWriteStream:\n",
    "    pickle.dump(Final_XGB_Model, fileWriteStream)\n",
    "    # Don't forget to close the filestream!\n",
    "    fileWriteStream.close()"
   ]
  },
  {
   "cell_type": "markdown",
   "id": "0c639d24",
   "metadata": {},
   "source": [
    "#### Step 3. Python function for Prediction"
   ]
  },
  {
   "cell_type": "code",
   "execution_count": 52,
   "id": "21c45f3c",
   "metadata": {},
   "outputs": [],
   "source": [
    "##### This Function can be called from any from any front end tool/website\n",
    "import pandas as pd\n",
    "import pickle\n",
    "def PredictResult(InputData):\n",
    "    \n",
    "    ## Maintaining the same order of columns as it was during the model training\n",
    "    Predictors=['W_Tar_calibrated', 'SW', 'VSH', 'PHI']\n",
    "    \n",
    "    ## Making sure the input data has same columns as it was used for training the model\n",
    "    if(InputData.shape[1]>=len(Predictors)):\n",
    "        \n",
    "        ## Any changes/transformations that you made in the training dataset for outlier removal or missing value treatment\n",
    "        ## Since, we are not using 'RW_log', we don't need to take log of 'RW' and fill missing values\n",
    "        ## but we need to make 'W_Tar_calibrated' from 'W_Tar'\n",
    "        InputData['W_Tar_calibrated']=InputData['W_Tar']+2\n",
    "        InputData['W_Tar_calibrated']=InputData['W_Tar_calibrated'].where(well_log_df['W_Tar_calibrated']>=1.9,1.9)\n",
    "    \n",
    "        # Convert categorical variables to numeric by label encoding, the same was as done in training\n",
    "            \n",
    "        \n",
    "        # Generating the input values to the model\n",
    "        X=InputData[Predictors]\n",
    "        \n",
    "        ##If standardization/normalization was done,re-fit the scaler with new predictors, and use it to transform new input\n",
    "        #InputData=PredictorScalerFit.transform(InputData)\n",
    "    \n",
    "    \n",
    "        ## Loading the trained-model from pickle file\n",
    "        with open('Final_XGB_Model.pkl', 'rb') as fileReadStream:\n",
    "            PredictionModel=pickle.load(fileReadStream)\n",
    "            # Don't forget to close the filestream!\n",
    "            fileReadStream.close()\n",
    "            \n",
    "        ## Predict the facies\n",
    "        Prediction=PredictionModel.predict(X)\n",
    "        X['Prediction']=Prediction\n",
    "        return(X)\n",
    "    \n",
    "    else:\n",
    "        raise Exception('Insufficient information to predict.')"
   ]
  },
  {
   "cell_type": "markdown",
   "id": "e2fe598c",
   "metadata": {},
   "source": [
    "The above function can be used for batch prediction where the input is a dataframe. We can also have a function which takes simply single set of values or array of values as input and produce the output in json format like an API.\n",
    "\n",
    "#### Python API to be used for web-service"
   ]
  },
  {
   "cell_type": "code",
   "execution_count": 53,
   "id": "a25f876d",
   "metadata": {},
   "outputs": [],
   "source": [
    "from numbers import Real\n",
    "def PredictAPI(W_Tar,SW,VSH,PHI):\n",
    "    # Creating a data frame for the model input\n",
    "    if all(isinstance(var, list) for var in [W_Tar,SW,VSH,PHI]):\n",
    "        InputData=pd.DataFrame(data={'W_Tar':W_Tar,'SW':SW,'VSH':VSH,'PHI':PHI})\n",
    "    elif all(isinstance(var, Real) for var in [W_Tar,SW,VSH,PHI]):\n",
    "        InputData=pd.DataFrame(data=[[W_Tar, SW, VSH,PHI]],columns=['W_Tar', 'SW', 'VSH', 'PHI'])\n",
    "    else:\n",
    "        raise Exception('Data type of all inputs is not matching.')\n",
    "        \n",
    "    # Calling the function defined above using the input parameters\n",
    "    Predictions=PredictResult(InputData= InputData)\n",
    "\n",
    "    # Returning the predicted facies\n",
    "    return(Predictions.to_json())"
   ]
  },
  {
   "cell_type": "code",
   "execution_count": 54,
   "id": "8c40b7ac",
   "metadata": {},
   "outputs": [
    {
     "data": {
      "text/plain": [
       "'{\"W_Tar_calibrated\":{\"0\":1.6,\"1\":1.1},\"SW\":{\"0\":1.0,\"1\":1.0},\"VSH\":{\"0\":0.55,\"1\":0.2},\"PHI\":{\"0\":0.1,\"1\":0.05},\"Prediction\":{\"0\":4,\"1\":3}}'"
      ]
     },
     "execution_count": 54,
     "metadata": {},
     "output_type": "execute_result"
    }
   ],
   "source": [
    "## Let's test the build PredictAPI \n",
    "PredictAPI([-0.4,-0.9],[1.0,1.0],[0.55,0.2],[0.1,0.05])"
   ]
  },
  {
   "cell_type": "markdown",
   "id": "a9674c96",
   "metadata": {},
   "source": [
    "To deploy the above build API as web service, Django and Flask are two most popular ways. We can then call our predictive model from a URL from any front end like java or angular js.\n",
    "\n",
    "#### Flask API to host the predictive model as a web service"
   ]
  },
  {
   "cell_type": "code",
   "execution_count": 55,
   "id": "a683f405",
   "metadata": {},
   "outputs": [],
   "source": [
    "from flask import Flask, request, jsonify\n",
    "\n",
    "app = Flask(__name__)\n",
    "\n",
    "@app.route('/flask_prediction_api', methods=[\"GET\"])\n",
    "def flask_prediction_api():\n",
    "    try:\n",
    "        # Getting the paramters from API call\n",
    "        W_Tar=float(request.args.get('W_Tar'))\n",
    "        SW=float(request.args.get('SW'))\n",
    "        VSH=float(request.args.get('VSH'))\n",
    "        PHI=float(request.args.get('PHI'))\n",
    "                \n",
    "        # Calling the funtion to get predictions\n",
    "        prediction_from_api=PredictAPI(\n",
    "                                                       W_Tar=W_Tar, \n",
    "                                                       SW=SW, \n",
    "                                                       VSH=VSH,\n",
    "                                                       PHI=PHI\n",
    "                                                        )\n",
    "\n",
    "        return (prediction_from_api)\n",
    "    \n",
    "    except Exception as e:\n",
    "        return('Oops!:'+str(e))"
   ]
  },
  {
   "cell_type": "code",
   "execution_count": 56,
   "id": "6f95ef1e",
   "metadata": {},
   "outputs": [
    {
     "name": "stdout",
     "output_type": "stream",
     "text": [
      " * Serving Flask app '__main__' (lazy loading)\n",
      " * Environment: production\n",
      "   WARNING: This is a development server. Do not use it in a production deployment.\n",
      "   Use a production WSGI server instead.\n",
      " * Debug mode: on\n"
     ]
    },
    {
     "name": "stderr",
     "output_type": "stream",
     "text": [
      " * Running on http://127.0.0.1:7570/ (Press CTRL+C to quit)\n",
      "127.0.0.1 - - [02/Sep/2021 17:01:32] \"GET /flask_prediction_api?W_Tar=-1.0&SW=0.95&VSH=0.21&PHI=0.3 HTTP/1.1\" 200 -\n",
      "127.0.0.1 - - [02/Sep/2021 17:01:32] \"GET /favicon.ico HTTP/1.1\" 404 -\n"
     ]
    }
   ],
   "source": [
    "if __name__ ==\"__main__\":\n",
    "    \n",
    "    ## Host the API in localhost @ port 7570\n",
    "    app.run(host='127.0.0.1', port=7570, threaded=True, debug=True, use_reloader=False)\n",
    "    ## Interrupt kernel to stop the API"
   ]
  },
  {
   "cell_type": "markdown",
   "id": "69aa90f9",
   "metadata": {},
   "source": [
    "#### Sample URL to call the API\n",
    "\n",
    "Copy and paste the below URL in any web browser\n",
    "http://127.0.0.1:7570/flask_prediction_api?W_Tar=-1.0&SW=0.95&VSH=0.21&PHI=0.3\n",
    "\n",
    "A similar URL can be called from any front end web application with desired value of parameters and the prediction will be generated."
   ]
  }
 ],
 "metadata": {
  "kernelspec": {
   "display_name": "Python 3",
   "language": "python",
   "name": "python3"
  },
  "language_info": {
   "codemirror_mode": {
    "name": "ipython",
    "version": 3
   },
   "file_extension": ".py",
   "mimetype": "text/x-python",
   "name": "python",
   "nbconvert_exporter": "python",
   "pygments_lexer": "ipython3",
   "version": "3.9.5"
  }
 },
 "nbformat": 4,
 "nbformat_minor": 5
}
